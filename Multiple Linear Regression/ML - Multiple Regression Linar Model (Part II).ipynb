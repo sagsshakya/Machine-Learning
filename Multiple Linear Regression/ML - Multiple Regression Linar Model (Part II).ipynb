{
 "cells": [
  {
   "cell_type": "markdown",
   "metadata": {},
   "source": [
    "# ML - Multiple Linear Regression Model (Part II).\n",
    "- Prepared by - Sagun Shakya.\n",
    "    - MSc. Data Science.\n",
    "    - GITAM Institute of Science, Visakhapatnam."
   ]
  },
  {
   "cell_type": "code",
   "execution_count": 1,
   "metadata": {},
   "outputs": [],
   "source": [
    "import pandas as pd\n",
    "import numpy as np\n",
    "import matplotlib.pyplot as plt\n",
    "import seaborn as sns\n",
    "import os\n",
    "from sklearn.linear_model import LinearRegression\n",
    "from sklearn.model_selection import train_test_split"
   ]
  },
  {
   "cell_type": "code",
   "execution_count": 2,
   "metadata": {},
   "outputs": [],
   "source": [
    "os.chdir(r'D:\\Sagun Shakya\\Python\\Data Sets')"
   ]
  },
  {
   "cell_type": "code",
   "execution_count": 3,
   "metadata": {},
   "outputs": [
    {
     "data": {
      "text/html": [
       "<div>\n",
       "<style scoped>\n",
       "    .dataframe tbody tr th:only-of-type {\n",
       "        vertical-align: middle;\n",
       "    }\n",
       "\n",
       "    .dataframe tbody tr th {\n",
       "        vertical-align: top;\n",
       "    }\n",
       "\n",
       "    .dataframe thead th {\n",
       "        text-align: right;\n",
       "    }\n",
       "</style>\n",
       "<table border=\"1\" class=\"dataframe\">\n",
       "  <thead>\n",
       "    <tr style=\"text-align: right;\">\n",
       "      <th></th>\n",
       "      <th>price</th>\n",
       "      <th>size</th>\n",
       "      <th>year</th>\n",
       "    </tr>\n",
       "  </thead>\n",
       "  <tbody>\n",
       "    <tr>\n",
       "      <th>0</th>\n",
       "      <td>234314.144</td>\n",
       "      <td>643.09</td>\n",
       "      <td>2015</td>\n",
       "    </tr>\n",
       "    <tr>\n",
       "      <th>1</th>\n",
       "      <td>228581.528</td>\n",
       "      <td>656.22</td>\n",
       "      <td>2009</td>\n",
       "    </tr>\n",
       "    <tr>\n",
       "      <th>2</th>\n",
       "      <td>281626.336</td>\n",
       "      <td>487.29</td>\n",
       "      <td>2018</td>\n",
       "    </tr>\n",
       "    <tr>\n",
       "      <th>3</th>\n",
       "      <td>401255.608</td>\n",
       "      <td>1504.75</td>\n",
       "      <td>2015</td>\n",
       "    </tr>\n",
       "    <tr>\n",
       "      <th>4</th>\n",
       "      <td>458674.256</td>\n",
       "      <td>1275.46</td>\n",
       "      <td>2009</td>\n",
       "    </tr>\n",
       "  </tbody>\n",
       "</table>\n",
       "</div>"
      ],
      "text/plain": [
       "        price     size  year\n",
       "0  234314.144   643.09  2015\n",
       "1  228581.528   656.22  2009\n",
       "2  281626.336   487.29  2018\n",
       "3  401255.608  1504.75  2015\n",
       "4  458674.256  1275.46  2009"
      ]
     },
     "execution_count": 3,
     "metadata": {},
     "output_type": "execute_result"
    }
   ],
   "source": [
    "land = pd.read_csv('real_estate.csv')\n",
    "land.head()"
   ]
  },
  {
   "cell_type": "code",
   "execution_count": 4,
   "metadata": {},
   "outputs": [
    {
     "data": {
      "text/plain": [
       "price    0\n",
       "size     0\n",
       "year     0\n",
       "dtype: int64"
      ]
     },
     "execution_count": 4,
     "metadata": {},
     "output_type": "execute_result"
    }
   ],
   "source": [
    "land.isnull().sum()"
   ]
  },
  {
   "cell_type": "code",
   "execution_count": 5,
   "metadata": {},
   "outputs": [
    {
     "data": {
      "text/html": [
       "<div>\n",
       "<style scoped>\n",
       "    .dataframe tbody tr th:only-of-type {\n",
       "        vertical-align: middle;\n",
       "    }\n",
       "\n",
       "    .dataframe tbody tr th {\n",
       "        vertical-align: top;\n",
       "    }\n",
       "\n",
       "    .dataframe thead th {\n",
       "        text-align: right;\n",
       "    }\n",
       "</style>\n",
       "<table border=\"1\" class=\"dataframe\">\n",
       "  <thead>\n",
       "    <tr style=\"text-align: right;\">\n",
       "      <th></th>\n",
       "      <th>price</th>\n",
       "      <th>size</th>\n",
       "      <th>year</th>\n",
       "    </tr>\n",
       "  </thead>\n",
       "  <tbody>\n",
       "    <tr>\n",
       "      <th>count</th>\n",
       "      <td>100.000000</td>\n",
       "      <td>100.000000</td>\n",
       "      <td>100.000000</td>\n",
       "    </tr>\n",
       "    <tr>\n",
       "      <th>mean</th>\n",
       "      <td>292289.470160</td>\n",
       "      <td>853.024200</td>\n",
       "      <td>2012.600000</td>\n",
       "    </tr>\n",
       "    <tr>\n",
       "      <th>std</th>\n",
       "      <td>77051.727525</td>\n",
       "      <td>297.941951</td>\n",
       "      <td>4.729021</td>\n",
       "    </tr>\n",
       "    <tr>\n",
       "      <th>min</th>\n",
       "      <td>154282.128000</td>\n",
       "      <td>479.750000</td>\n",
       "      <td>2006.000000</td>\n",
       "    </tr>\n",
       "    <tr>\n",
       "      <th>25%</th>\n",
       "      <td>234280.148000</td>\n",
       "      <td>643.330000</td>\n",
       "      <td>2009.000000</td>\n",
       "    </tr>\n",
       "    <tr>\n",
       "      <th>50%</th>\n",
       "      <td>280590.716000</td>\n",
       "      <td>696.405000</td>\n",
       "      <td>2015.000000</td>\n",
       "    </tr>\n",
       "    <tr>\n",
       "      <th>75%</th>\n",
       "      <td>335723.696000</td>\n",
       "      <td>1029.322500</td>\n",
       "      <td>2018.000000</td>\n",
       "    </tr>\n",
       "    <tr>\n",
       "      <th>max</th>\n",
       "      <td>500681.128000</td>\n",
       "      <td>1842.510000</td>\n",
       "      <td>2018.000000</td>\n",
       "    </tr>\n",
       "  </tbody>\n",
       "</table>\n",
       "</div>"
      ],
      "text/plain": [
       "               price         size         year\n",
       "count     100.000000   100.000000   100.000000\n",
       "mean   292289.470160   853.024200  2012.600000\n",
       "std     77051.727525   297.941951     4.729021\n",
       "min    154282.128000   479.750000  2006.000000\n",
       "25%    234280.148000   643.330000  2009.000000\n",
       "50%    280590.716000   696.405000  2015.000000\n",
       "75%    335723.696000  1029.322500  2018.000000\n",
       "max    500681.128000  1842.510000  2018.000000"
      ]
     },
     "execution_count": 5,
     "metadata": {},
     "output_type": "execute_result"
    }
   ],
   "source": [
    "land.describe()"
   ]
  },
  {
   "cell_type": "code",
   "execution_count": 6,
   "metadata": {},
   "outputs": [
    {
     "data": {
      "image/png": "[encoded data removed]",
      "text/plain": [
       "<Figure size 360x288 with 2 Axes>"
      ]
     },
     "metadata": {
      "needs_background": "light"
     },
     "output_type": "display_data"
    }
   ],
   "source": [
    "col_vals = land.corr().columns.values\n",
    "\n",
    "plt.figure(figsize = (5,4))\n",
    "sns.set(style = 'whitegrid', font_scale = 1.2) \n",
    "\n",
    "sns.heatmap(data=land.corr(), xticklabels=col_vals, yticklabels=col_vals, cmap = 'coolwarm', annot = True)\n",
    "plt.show()"
   ]
  },
  {
   "cell_type": "code",
   "execution_count": 7,
   "metadata": {},
   "outputs": [
    {
     "data": {
      "image/png": "[encoded data removed]",
      "text/plain": [
       "<Figure size 720x576 with 1 Axes>"
      ]
     },
     "metadata": {},
     "output_type": "display_data"
    }
   ],
   "source": [
    "plt.figure(figsize = (10,8))\n",
    "sns.set(style = 'whitegrid', font_scale = 1.2) \n",
    "\n",
    "sns.barplot(x= land.year, y = land.price, palette = 'Set1')\n",
    "plt.show()"
   ]
  },
  {
   "cell_type": "code",
   "execution_count": 8,
   "metadata": {},
   "outputs": [
    {
     "data": {
      "image/png": "[encoded data removed]",
      "text/plain": [
       "<Figure size 720x576 with 1 Axes>"
      ]
     },
     "metadata": {},
     "output_type": "display_data"
    }
   ],
   "source": [
    "plt.figure(figsize = (10,8))\n",
    "sns.set(style = 'whitegrid', font_scale = 1.2) \n",
    "\n",
    "sns.scatterplot(x= land['size'], y = land.price, marker = 'x', s = 70)\n",
    "plt.show()"
   ]
  },
  {
   "cell_type": "code",
   "execution_count": 9,
   "metadata": {},
   "outputs": [
    {
     "data": {
      "image/png": "[encoded data removed]",
      "text/plain": [
       "<Figure size 720x576 with 1 Axes>"
      ]
     },
     "metadata": {},
     "output_type": "display_data"
    }
   ],
   "source": [
    "plt.figure(figsize = (10,8))\n",
    "sns.set(style = 'whitegrid', font_scale = 1.2) \n",
    "\n",
    "sns.swarmplot(x= land.year, y = land.price, palette = 'Set1', marker = 'X')\n",
    "plt.show()"
   ]
  },
  {
   "cell_type": "code",
   "execution_count": 10,
   "metadata": {},
   "outputs": [
    {
     "data": {
      "image/png": "[encoded data removed]",
      "text/plain": [
       "<Figure size 720x576 with 1 Axes>"
      ]
     },
     "metadata": {},
     "output_type": "display_data"
    }
   ],
   "source": [
    "plt.figure(figsize = (10,8))\n",
    "sns.set(style = 'darkgrid', font_scale = 1.2) \n",
    "\n",
    "sns.boxplot(y = land['price'], x = land['year'], palette = 'muted')\n",
    "sns.swarmplot(x= land.year, y = land.price, palette = 'Set1', marker = 'X', s = 7.5)\n",
    "plt.show()"
   ]
  },
  {
   "cell_type": "code",
   "execution_count": 11,
   "metadata": {},
   "outputs": [
    {
     "data": {
      "image/png": "[encoded data removed]",
      "text/plain": [
       "<Figure size 288x576 with 1 Axes>"
      ]
     },
     "metadata": {},
     "output_type": "display_data"
    }
   ],
   "source": [
    "plt.figure(figsize = (4,8))\n",
    "sns.set(style = 'whitegrid', font_scale = 1.2) \n",
    "\n",
    "sns.boxplot(y = land.price, palette = 'Set1')\n",
    "plt.show()"
   ]
  },
  {
   "cell_type": "markdown",
   "metadata": {},
   "source": [
    "### Detection and removal of outliers:"
   ]
  },
  {
   "cell_type": "code",
   "execution_count": 12,
   "metadata": {},
   "outputs": [],
   "source": [
    "q1 = land['price'].quantile(1/4)\n",
    "q3 = land['price'].quantile(3/4)\n",
    "IQR = q3 - q1\n",
    "lowerLimit = q1 - 1.5 * IQR\n",
    "upperLimit = q3 + 1.5 * IQR"
   ]
  },
  {
   "cell_type": "code",
   "execution_count": 13,
   "metadata": {},
   "outputs": [
    {
     "name": "stdout",
     "output_type": "stream",
     "text": [
      "[11 55]\n"
     ]
    }
   ],
   "source": [
    "pricing = land['price']\n",
    "\n",
    "# Only those values lying outside the interval are labelled as index_outliers.\n",
    "# And, their index values are taken.\n",
    "\n",
    "index_outliers = pricing[ pricing.between(lowerLimit,upperLimit) == False].index.values\n",
    "print(index_outliers)"
   ]
  },
  {
   "cell_type": "code",
   "execution_count": 14,
   "metadata": {},
   "outputs": [],
   "source": [
    "land.drop(index_outliers, axis = 0, inplace = True)    "
   ]
  },
  {
   "cell_type": "code",
   "execution_count": 15,
   "metadata": {},
   "outputs": [
    {
     "data": {
      "image/png": "[encoded data removed]",
      "text/plain": [
       "<Figure size 288x576 with 1 Axes>"
      ]
     },
     "metadata": {},
     "output_type": "display_data"
    }
   ],
   "source": [
    "plt.figure(figsize = (4,8))\n",
    "sns.set(style = 'whitegrid', font_scale = 1.2) \n",
    "\n",
    "sns.boxplot(y = land.price, palette = 'Blues')\n",
    "plt.show()"
   ]
  },
  {
   "cell_type": "markdown",
   "metadata": {},
   "source": [
    "#### As we can see, there are no outliers left."
   ]
  },
  {
   "cell_type": "markdown",
   "metadata": {},
   "source": [
    "### Checking for correlation once again after removing the outliers:"
   ]
  },
  {
   "cell_type": "code",
   "execution_count": 16,
   "metadata": {},
   "outputs": [
    {
     "data": {
      "image/png": "[encoded data removed]",
      "text/plain": [
       "<Figure size 360x288 with 2 Axes>"
      ]
     },
     "metadata": {},
     "output_type": "display_data"
    }
   ],
   "source": [
    "col_vals = land.corr().columns.values\n",
    "\n",
    "plt.figure(figsize = (5,4))\n",
    "sns.set(style = 'whitegrid', font_scale = 1.2) \n",
    "\n",
    "sns.heatmap(data=land.corr(), xticklabels=col_vals, yticklabels=col_vals, cmap = 'coolwarm', annot = True)\n",
    "plt.show()"
   ]
  },
  {
   "cell_type": "markdown",
   "metadata": {},
   "source": [
    "## Multiple Regression Analysis:"
   ]
  },
  {
   "cell_type": "markdown",
   "metadata": {},
   "source": [
    "### Case I: Using all of the data as a training set."
   ]
  },
  {
   "cell_type": "code",
   "execution_count": 17,
   "metadata": {},
   "outputs": [],
   "source": [
    "Y = land['price']\n",
    "X = land[['size', 'year']]"
   ]
  },
  {
   "cell_type": "code",
   "execution_count": 18,
   "metadata": {},
   "outputs": [
    {
     "data": {
      "text/plain": [
       "LinearRegression(copy_X=True, fit_intercept=True, n_jobs=None, normalize=False)"
      ]
     },
     "execution_count": 18,
     "metadata": {},
     "output_type": "execute_result"
    }
   ],
   "source": [
    "model = LinearRegression()\n",
    "\n",
    "model.fit(X, Y)"
   ]
  },
  {
   "cell_type": "code",
   "execution_count": 28,
   "metadata": {},
   "outputs": [
    {
     "name": "stdout",
     "output_type": "stream",
     "text": [
      "Weight values:  [ 225.1564 2772.4462] \n",
      "Intercept:  -5479961.3056\n"
     ]
    }
   ],
   "source": [
    "# Checking the weights and intercepts values.\n",
    "print('Weight values: ', model.coef_.round(4), '\\nIntercept: ', model.intercept_.round(4))"
   ]
  },
  {
   "cell_type": "code",
   "execution_count": 20,
   "metadata": {},
   "outputs": [
    {
     "data": {
      "text/plain": [
       "array([444252.45, 455342.23, 458114.68])"
      ]
     },
     "execution_count": 20,
     "metadata": {},
     "output_type": "execute_result"
    }
   ],
   "source": [
    "model.predict([[1500,2015], [1500,2019], [1500,2020]]).round(2)"
   ]
  },
  {
   "cell_type": "markdown",
   "metadata": {},
   "source": [
    "### Testing the significance of the results."
   ]
  },
  {
   "cell_type": "markdown",
   "metadata": {},
   "source": [
    "##### First we take a different approach to view the statistical summary of the test i.e statsmodel.\n",
    " - Note: sklearn is helpful for finding indivisual scores."
   ]
  },
  {
   "cell_type": "code",
   "execution_count": 27,
   "metadata": {},
   "outputs": [],
   "source": [
    "import statsmodels.api as sm"
   ]
  },
  {
   "cell_type": "code",
   "execution_count": 33,
   "metadata": {},
   "outputs": [
    {
     "data": {
      "text/html": [
       "<table class=\"simpletable\">\n",
       "<caption>OLS Regression Results</caption>\n",
       "<tr>\n",
       "  <th>Dep. Variable:</th>          <td>price</td>      <th>  R-squared:         </th> <td>   0.742</td>\n",
       "</tr>\n",
       "<tr>\n",
       "  <th>Model:</th>                   <td>OLS</td>       <th>  Adj. R-squared:    </th> <td>   0.737</td>\n",
       "</tr>\n",
       "<tr>\n",
       "  <th>Method:</th>             <td>Least Squares</td>  <th>  F-statistic:       </th> <td>   136.8</td>\n",
       "</tr>\n",
       "<tr>\n",
       "  <th>Date:</th>             <td>Sat, 18 Jan 2020</td> <th>  Prob (F-statistic):</th> <td>1.06e-28</td>\n",
       "</tr>\n",
       "<tr>\n",
       "  <th>Time:</th>                 <td>15:25:11</td>     <th>  Log-Likelihood:    </th> <td> -1168.1</td>\n",
       "</tr>\n",
       "<tr>\n",
       "  <th>No. Observations:</th>      <td>    98</td>      <th>  AIC:               </th> <td>   2342.</td>\n",
       "</tr>\n",
       "<tr>\n",
       "  <th>Df Residuals:</th>          <td>    95</td>      <th>  BIC:               </th> <td>   2350.</td>\n",
       "</tr>\n",
       "<tr>\n",
       "  <th>Df Model:</th>              <td>     2</td>      <th>                     </th>     <td> </td>   \n",
       "</tr>\n",
       "<tr>\n",
       "  <th>Covariance Type:</th>      <td>nonrobust</td>    <th>                     </th>     <td> </td>   \n",
       "</tr>\n",
       "</table>\n",
       "<table class=\"simpletable\">\n",
       "<tr>\n",
       "    <td></td>       <th>coef</th>     <th>std err</th>      <th>t</th>      <th>P>|t|</th>  <th>[0.025</th>    <th>0.975]</th>  \n",
       "</tr>\n",
       "<tr>\n",
       "  <th>const</th> <td> -5.48e+06</td> <td>  1.6e+06</td> <td>   -3.417</td> <td> 0.001</td> <td>-8.66e+06</td> <td> -2.3e+06</td>\n",
       "</tr>\n",
       "<tr>\n",
       "  <th>size</th>  <td>  225.1564</td> <td>   13.684</td> <td>   16.454</td> <td> 0.000</td> <td>  197.990</td> <td>  252.323</td>\n",
       "</tr>\n",
       "<tr>\n",
       "  <th>year</th>  <td> 2772.4462</td> <td>  796.144</td> <td>    3.482</td> <td> 0.001</td> <td> 1191.901</td> <td> 4352.992</td>\n",
       "</tr>\n",
       "</table>\n",
       "<table class=\"simpletable\">\n",
       "<tr>\n",
       "  <th>Omnibus:</th>       <td> 9.601</td> <th>  Durbin-Watson:     </th> <td>   2.223</td>\n",
       "</tr>\n",
       "<tr>\n",
       "  <th>Prob(Omnibus):</th> <td> 0.008</td> <th>  Jarque-Bera (JB):  </th> <td>   3.633</td>\n",
       "</tr>\n",
       "<tr>\n",
       "  <th>Skew:</th>          <td> 0.119</td> <th>  Prob(JB):          </th> <td>   0.163</td>\n",
       "</tr>\n",
       "<tr>\n",
       "  <th>Kurtosis:</th>      <td> 2.087</td> <th>  Cond. No.          </th> <td>9.39e+05</td>\n",
       "</tr>\n",
       "</table><br/><br/>Warnings:<br/>[1] Standard Errors assume that the covariance matrix of the errors is correctly specified.<br/>[2] The condition number is large, 9.39e+05. This might indicate that there are<br/>strong multicollinearity or other numerical problems."
      ],
      "text/plain": [
       "<class 'statsmodels.iolib.summary.Summary'>\n",
       "\"\"\"\n",
       "                            OLS Regression Results                            \n",
       "==============================================================================\n",
       "Dep. Variable:                  price   R-squared:                       0.742\n",
       "Model:                            OLS   Adj. R-squared:                  0.737\n",
       "Method:                 Least Squares   F-statistic:                     136.8\n",
       "Date:                Sat, 18 Jan 2020   Prob (F-statistic):           1.06e-28\n",
       "Time:                        15:25:11   Log-Likelihood:                -1168.1\n",
       "No. Observations:                  98   AIC:                             2342.\n",
       "Df Residuals:                      95   BIC:                             2350.\n",
       "Df Model:                           2                                         \n",
       "Covariance Type:            nonrobust                                         \n",
       "==============================================================================\n",
       "                 coef    std err          t      P>|t|      [0.025      0.975]\n",
       "------------------------------------------------------------------------------\n",
       "const       -5.48e+06    1.6e+06     -3.417      0.001   -8.66e+06    -2.3e+06\n",
       "size         225.1564     13.684     16.454      0.000     197.990     252.323\n",
       "year        2772.4462    796.144      3.482      0.001    1191.901    4352.992\n",
       "==============================================================================\n",
       "Omnibus:                        9.601   Durbin-Watson:                   2.223\n",
       "Prob(Omnibus):                  0.008   Jarque-Bera (JB):                3.633\n",
       "Skew:                           0.119   Prob(JB):                        0.163\n",
       "Kurtosis:                       2.087   Cond. No.                     9.39e+05\n",
       "==============================================================================\n",
       "\n",
       "Warnings:\n",
       "[1] Standard Errors assume that the covariance matrix of the errors is correctly specified.\n",
       "[2] The condition number is large, 9.39e+05. This might indicate that there are\n",
       "strong multicollinearity or other numerical problems.\n",
       "\"\"\""
      ]
     },
     "execution_count": 33,
     "metadata": {},
     "output_type": "execute_result"
    }
   ],
   "source": [
    "Y = land['price']\n",
    "X = land[['size', 'year']]\n",
    "X = sm.add_constant(X)\n",
    "\n",
    "model1 = sm.OLS(Y,X).fit()\n",
    "model1.summary()"
   ]
  },
  {
   "cell_type": "markdown",
   "metadata": {},
   "source": [
    "#### Remarks:\n",
    "- Prob(F - statistic) = 1.06e-28 is a very lower value as compared to $\\alpha$ = 0.05. So, we reject the null hypothesis that all of the weights/coefficients are equal to zero.\n",
    "    - H$_o$ : All of the weights/coefficients are equal to zero.\n",
    "    - H$_1$ : At least on of the weights/coefficients is not equal to zero.\n",
    "    \n",
    "- Degrees of freedom: f ~ F(2,95).\n",
    "- The indivisual p - values i.e P>|t| is also very lower than $\\alpha$ = 0.05. This means that, indivisually speaking, the features are quite significant to determine the response variable."
   ]
  },
  {
   "cell_type": "markdown",
   "metadata": {},
   "source": [
    "## Below is a very important trick to store the summary objects in a dataframe.\n"
   ]
  },
  {
   "cell_type": "code",
   "execution_count": 36,
   "metadata": {},
   "outputs": [],
   "source": [
    "import statsmodels.api as sm\n",
    "\n",
    "mymodel = sm.OLS(Y,X)\n",
    "results = mymodel.fit()           # 'results' store the summary object."
   ]
  },
  {
   "cell_type": "markdown",
   "metadata": {},
   "source": [
    "### Using dir() method to get all the atrributes of the object results."
   ]
  },
  {
   "cell_type": "code",
   "execution_count": 46,
   "metadata": {},
   "outputs": [
    {
     "name": "stdout",
     "output_type": "stream",
     "text": [
      "obj.HC0_se = const    1.608260e+06\n",
      "size     1.518223e+01\n",
      "year     7.987765e+02\n",
      "dtype: float64\n",
      "obj.HC1_se = const    1.633456e+06\n",
      "size     1.542009e+01\n",
      "year     8.112908e+02\n",
      "dtype: float64\n",
      "obj.HC2_se = const    1.638910e+06\n",
      "size     1.560235e+01\n",
      "year     8.139886e+02\n",
      "dtype: float64\n",
      "obj.HC3_se = const    1.670347e+06\n",
      "size     1.603842e+01\n",
      "year     8.295908e+02\n",
      "dtype: float64\n",
      "obj._HCCM = <bound method RegressionResults._HCCM of <statsmodels.regression.linear_model.OLSResults object at 0x0000021EC20BF2B0>>\n",
      "obj.__class__ = <class 'statsmodels.regression.linear_model.RegressionResultsWrapper'>\n",
      "obj.__delattr__ = <method-wrapper '__delattr__' of RegressionResultsWrapper object at 0x0000021EC21ABFD0>\n",
      "obj.__dict__ = {'_results': <statsmodels.regression.linear_model.OLSResults object at 0x0000021EC20BF2B0>, '__doc__': '\\n    Results class for for an OLS model.\\n\\n    Most of the methods and attributes are inherited from RegressionResults.\\n    The special methods that are only available for OLS are:\\n\\n    - get_influence\\n    - outlier_test\\n    - el_test\\n    - conf_int_el\\n\\n    See Also\\n    --------\\n    RegressionResults\\n\\n    '}\n",
      "obj.__dir__ = <bound method ResultsWrapper.__dir__ of <statsmodels.regression.linear_model.RegressionResultsWrapper object at 0x0000021EC21ABFD0>>\n",
      "obj.__doc__ = '\\n    Results class for for an OLS model.\\n\\n    Most of the methods and attributes are inherited from RegressionResults.\\n    The special methods that are only available for OLS are:\\n\\n    - get_influence\\n    - outlier_test\\n    - el_test\\n    - conf_int_el\\n\\n    See Also\\n    --------\\n    RegressionResults\\n\\n    '\n",
      "obj.__eq__ = <method-wrapper '__eq__' of RegressionResultsWrapper object at 0x0000021EC21ABFD0>\n",
      "obj.__format__ = <built-in method __format__ of RegressionResultsWrapper object at 0x0000021EC21ABFD0>\n",
      "obj.__ge__ = <method-wrapper '__ge__' of RegressionResultsWrapper object at 0x0000021EC21ABFD0>\n",
      "obj.__getattribute__ = <bound method ResultsWrapper.__getattribute__ of <statsmodels.regression.linear_model.RegressionResultsWrapper object at 0x0000021EC21ABFD0>>\n",
      "obj.__gt__ = <method-wrapper '__gt__' of RegressionResultsWrapper object at 0x0000021EC21ABFD0>\n",
      "obj.__hash__ = <method-wrapper '__hash__' of RegressionResultsWrapper object at 0x0000021EC21ABFD0>\n",
      "obj.__init__ = <bound method ResultsWrapper.__init__ of <statsmodels.regression.linear_model.RegressionResultsWrapper object at 0x0000021EC21ABFD0>>\n",
      "obj.__init_subclass__ = <built-in method __init_subclass__ of type object at 0x0000021EC11B8158>\n",
      "obj.__le__ = <method-wrapper '__le__' of RegressionResultsWrapper object at 0x0000021EC21ABFD0>\n",
      "obj.__lt__ = <method-wrapper '__lt__' of RegressionResultsWrapper object at 0x0000021EC21ABFD0>\n",
      "obj.__module__ = 'statsmodels.regression.linear_model'\n",
      "obj.__ne__ = <method-wrapper '__ne__' of RegressionResultsWrapper object at 0x0000021EC21ABFD0>\n",
      "obj.__new__ = <built-in method __new__ of type object at 0x00007FFB29B46D30>\n",
      "obj.__reduce__ = <built-in method __reduce__ of RegressionResultsWrapper object at 0x0000021EC21ABFD0>\n",
      "obj.__reduce_ex__ = <built-in method __reduce_ex__ of RegressionResultsWrapper object at 0x0000021EC21ABFD0>\n",
      "obj.__repr__ = <method-wrapper '__repr__' of RegressionResultsWrapper object at 0x0000021EC21ABFD0>\n",
      "obj.__setattr__ = <method-wrapper '__setattr__' of RegressionResultsWrapper object at 0x0000021EC21ABFD0>\n",
      "obj.__sizeof__ = <built-in method __sizeof__ of RegressionResultsWrapper object at 0x0000021EC21ABFD0>\n",
      "obj.__str__ = <method-wrapper '__str__' of RegressionResultsWrapper object at 0x0000021EC21ABFD0>\n",
      "obj.__subclasshook__ = <built-in method __subclasshook__ of type object at 0x0000021EC11B8158>\n",
      "obj.__weakref__ = None\n",
      "obj._cache = {'wresid': array([-1.69995289e+04, -9.05377116e+03,  5.70746921e+04, -4.40663320e+04,\n",
      "        8.16131052e+04,  3.39767429e+04,  3.00716834e+04, -4.56309438e+04,\n",
      "        6.26509560e+04, -2.76281814e+04, -4.90749123e+04, -4.74213628e+04,\n",
      "        7.66787275e+04,  6.97067076e+04,  4.79829972e+04, -2.19770830e+04,\n",
      "        1.21282482e+04, -9.46111312e+03, -4.68249495e+04,  2.18504074e+04,\n",
      "       -5.84888248e+04,  3.41865309e+04, -3.97749298e+04, -4.02253885e+04,\n",
      "       -7.30520308e+02,  2.84185928e+04, -4.66956781e+01,  3.78953268e+04,\n",
      "       -7.44444458e+04, -7.41236671e+03, -9.46077712e+03, -1.67619297e+04,\n",
      "       -3.34204339e+04, -2.26926265e+04,  4.69000552e+04,  2.30909162e+03,\n",
      "        2.35319436e+04,  2.37898244e+04, -1.79951064e+04, -2.65707162e+04,\n",
      "       -5.09821640e+04,  1.21158329e+04,  2.44183257e+04, -6.05375283e+04,\n",
      "        3.63191736e+04, -2.81469712e+04, -3.70122424e+04,  8.74379147e+03,\n",
      "        1.69729038e+04, -2.66504927e+04,  5.64533318e+04, -6.13447428e+04,\n",
      "        2.40703876e+04,  3.32254733e+03, -2.68645781e+04, -3.42794376e+02,\n",
      "        6.27178255e+04,  1.66624805e+04, -5.01118833e+04, -4.77893277e+02,\n",
      "       -1.82964649e+04,  1.49571212e+04,  4.15353311e+04,  1.18448207e+04,\n",
      "        4.64462742e+04,  4.14179200e+04,  2.54075524e+04,  3.60318982e+04,\n",
      "       -4.31061188e+04, -4.48461309e+04,  4.46565195e+04, -1.85847360e+04,\n",
      "       -4.08623676e+04,  1.69862084e+04,  8.21374345e+02, -1.60830476e+04,\n",
      "        8.06166808e+03, -6.20277398e+03, -5.46058811e+04,  4.94179364e+04,\n",
      "       -4.40040411e+04,  2.30525324e+04,  3.44218244e+04,  3.41795275e+04,\n",
      "       -3.53024819e+04,  5.81585083e+03, -3.83982458e+04, -3.88257786e+04,\n",
      "       -2.00701495e+04, -9.70601780e+03,  3.52774132e+04, -5.37539711e+03,\n",
      "        2.36875656e+04,  3.87862454e+04, -1.29468315e+04, -3.67343560e+04,\n",
      "       -2.73392382e+04,  3.45564708e+04]), 'scale': 1360586138.8418686, 'bse': array([1.60358402e+06, 1.36842805e+01, 7.96143884e+02]), 'tvalues': array([-3.41732098, 16.45365304,  3.48234318]), 'pvalues': array([9.32540311e-04, 1.47179324e-29, 7.53033427e-04]), 'cov_HC0': array([[ 2.58650077e+12, -1.64121928e+06, -1.28460168e+09],\n",
      "       [-1.64121928e+06,  2.30500126e+02,  7.25055910e+02],\n",
      "       [-1.28460168e+09,  7.25055910e+02,  6.38043959e+05]]), 'HC0_se': array([1.60826017e+06, 1.51822306e+01, 7.98776539e+02]), 'nobs': 98.0, 'cov_HC1': array([[ 2.66817974e+12, -1.69304726e+06, -1.32516805e+09],\n",
      "       [-1.69304726e+06,  2.37779077e+02,  7.47952413e+02],\n",
      "       [-1.32516805e+09,  7.47952413e+02,  6.58192715e+05]]), 'HC1_se': array([1.63345638e+06, 1.54200868e+01, 8.11290771e+02]), 'cov_HC2': array([[ 2.68602748e+12, -1.72049885e+06, -1.33401367e+09],\n",
      "       [-1.72049885e+06,  2.43433326e+02,  7.59588669e+02],\n",
      "       [-1.33401367e+09,  7.59588669e+02,  6.62577418e+05]]), 'HC2_se': array([1.63891045e+06, 1.56023500e+01, 8.13988586e+02]), 'cov_HC3': array([[ 2.79005843e+12, -1.80343532e+06, -1.38566153e+09],\n",
      "       [-1.80343532e+06,  2.57230905e+02,  7.95621772e+02],\n",
      "       [-1.38566153e+09,  7.95621772e+02,  6.88220857e+05]]), 'HC3_se': array([1.67034680e+06, 1.60384196e+01, 8.29590777e+02]), 'llf': -1168.0604274738268, 'aic': 2342.1208549476537, 'bic': 2349.8757573836656, 'centered_tss': 501608126045.9697, 'eigenvals': array([4.66567123e+08, 6.26441854e+06, 5.29105768e-04]), 'condition_number': 939043.7323303133, 'ssr': 129255683189.97752, 'ess': 372352442855.9922, 'mse_model': 186176221427.9961, 'mse_resid': 1360586138.8418686, 'fvalue': 136.83530657343707, 'f_pvalue': 1.0630201397628987e-28, 'fittedvalues': array([251313.6729302 , 237635.29915517, 224551.64386248, 445321.94002564,\n",
      "       377061.15078595, 211073.53705676, 235057.38055932, 221347.42377259,\n",
      "       268450.38795597, 246258.78942947, 328630.00827936, 262893.4667894 ,\n",
      "       342074.28050934, 374485.30040872, 392218.61879003, 270314.68298133,\n",
      "       222049.91175316, 234913.09711532, 346241.92554791, 246274.67260803,\n",
      "       230284.06479391, 378382.94110788, 223234.41778377, 208272.65250578,\n",
      "       363250.24030825, 243374.71923928, 406898.99967813, 259865.11315521,\n",
      "       443432.87779584, 309048.09470584, 234913.09711532, 224504.17767221,\n",
      "       224907.3298657 , 307915.80245413, 255100.8647611 , 266916.82838397,\n",
      "       209961.26442085, 269175.39157694, 263742.30643259, 336616.42816054,\n",
      "       268450.38795597, 275234.16706394, 390264.3223182 , 353582.02431925,\n",
      "       263742.30643259, 232449.94717039, 238790.2903927 , 249084.62453031,\n",
      "       245450.60016929, 252306.61267197, 336616.42816054, 319981.75080062,\n",
      "       245452.66838791, 252306.61267197, 347210.09808524, 395584.89037568,\n",
      "       267959.30253463, 234670.11154439, 301300.70730377, 263789.58927743,\n",
      "       377970.90488851, 319981.75080062, 260858.05289698, 292742.45127149,\n",
      "       308804.92578949, 230308.83199835, 269175.39157694, 418480.86175595,\n",
      "       319981.75080062, 226433.7069396 , 254269.9765151 , 230308.83199835,\n",
      "       269175.39157694, 269175.39157694, 381298.7776552 , 381946.98363824,\n",
      "       243498.37191608, 349191.22998013, 234913.09711532, 359219.87956099,\n",
      "       234913.09711532, 259631.01161016, 269175.39157694, 342074.28050934,\n",
      "       189584.60985625, 321436.26117064, 250302.78179125, 393337.89057861,\n",
      "       271210.80546936, 347784.18580037, 262893.4667894 , 272059.64511255,\n",
      "       238790.2903927 , 213674.15463843, 323469.42349902, 420369.92398575,\n",
      "       252484.48623115, 240366.3852209 ]), 'mse_total': 5171217794.288347, 'resid': array([-1.69995289e+04, -9.05377116e+03,  5.70746921e+04, -4.40663320e+04,\n",
      "        8.16131052e+04,  3.39767429e+04,  3.00716834e+04, -4.56309438e+04,\n",
      "        6.26509560e+04, -2.76281814e+04, -4.90749123e+04, -4.74213628e+04,\n",
      "        7.66787275e+04,  6.97067076e+04,  4.79829972e+04, -2.19770830e+04,\n",
      "        1.21282482e+04, -9.46111312e+03, -4.68249495e+04,  2.18504074e+04,\n",
      "       -5.84888248e+04,  3.41865309e+04, -3.97749298e+04, -4.02253885e+04,\n",
      "       -7.30520308e+02,  2.84185928e+04, -4.66956781e+01,  3.78953268e+04,\n",
      "       -7.44444458e+04, -7.41236671e+03, -9.46077712e+03, -1.67619297e+04,\n",
      "       -3.34204339e+04, -2.26926265e+04,  4.69000552e+04,  2.30909162e+03,\n",
      "        2.35319436e+04,  2.37898244e+04, -1.79951064e+04, -2.65707162e+04,\n",
      "       -5.09821640e+04,  1.21158329e+04,  2.44183257e+04, -6.05375283e+04,\n",
      "        3.63191736e+04, -2.81469712e+04, -3.70122424e+04,  8.74379147e+03,\n",
      "        1.69729038e+04, -2.66504927e+04,  5.64533318e+04, -6.13447428e+04,\n",
      "        2.40703876e+04,  3.32254733e+03, -2.68645781e+04, -3.42794376e+02,\n",
      "        6.27178255e+04,  1.66624805e+04, -5.01118833e+04, -4.77893277e+02,\n",
      "       -1.82964649e+04,  1.49571212e+04,  4.15353311e+04,  1.18448207e+04,\n",
      "        4.64462742e+04,  4.14179200e+04,  2.54075524e+04,  3.60318982e+04,\n",
      "       -4.31061188e+04, -4.48461309e+04,  4.46565195e+04, -1.85847360e+04,\n",
      "       -4.08623676e+04,  1.69862084e+04,  8.21374345e+02, -1.60830476e+04,\n",
      "        8.06166808e+03, -6.20277398e+03, -5.46058811e+04,  4.94179364e+04,\n",
      "       -4.40040411e+04,  2.30525324e+04,  3.44218244e+04,  3.41795275e+04,\n",
      "       -3.53024819e+04,  5.81585083e+03, -3.83982458e+04, -3.88257786e+04,\n",
      "       -2.00701495e+04, -9.70601780e+03,  3.52774132e+04, -5.37539711e+03,\n",
      "        2.36875656e+04,  3.87862454e+04, -1.29468315e+04, -3.67343560e+04,\n",
      "       -2.73392382e+04,  3.45564708e+04]), 'resid_pearson': array([-4.60865147e-01, -2.45451953e-01,  1.54732149e+00, -1.19465879e+00,\n",
      "        2.21256929e+00,  9.21125326e-01,  8.15257344e-01, -1.23707614e+00,\n",
      "        1.69849660e+00, -7.49012867e-01, -1.33044373e+00, -1.28561523e+00,\n",
      "        2.07879602e+00,  1.88978131e+00,  1.30084140e+00, -5.95808956e-01,\n",
      "        3.28802459e-01, -2.56495183e-01, -1.26944619e+00,  5.92374721e-01,\n",
      "       -1.58565928e+00,  9.26812775e-01, -1.07831687e+00, -1.09052902e+00,\n",
      "       -1.98047458e-02,  7.70441286e-01, -1.26594158e-03,  1.02735996e+00,\n",
      "       -2.01822360e+00, -2.00952714e-01, -2.56486074e-01, -4.54423720e-01,\n",
      "       -9.06043528e-01, -6.15207673e-01,  1.27148234e+00,  6.26005492e-02,\n",
      "        6.37961951e-01,  6.44953221e-01, -4.87855717e-01, -7.20344491e-01,\n",
      "       -1.38215021e+00,  3.28465874e-01,  6.61992182e-01, -1.64120059e+00,\n",
      "        9.84629712e-01, -7.63077498e-01, -1.00341913e+00,  2.37048259e-01,\n",
      "        4.60143328e-01, -7.22507269e-01,  1.53047612e+00, -1.66308455e+00,\n",
      "        6.52559419e-01,  9.00758056e-02, -7.28311224e-01, -9.29331519e-03,\n",
      "        1.70030946e+00,  4.51727606e-01, -1.35855650e+00, -1.29559093e-02,\n",
      "       -4.96025685e-01,  4.05494522e-01,  1.12604217e+00,  3.21118607e-01,\n",
      "        1.25918013e+00,  1.12285910e+00,  6.88810580e-01,  9.76841544e-01,\n",
      "       -1.16862696e+00, -1.21579950e+00,  1.21065904e+00, -5.03840849e-01,\n",
      "       -1.10779782e+00,  4.60504022e-01,  2.22678411e-02, -4.36018912e-01,\n",
      "        2.18555577e-01, -1.68160092e-01, -1.48039087e+00,  1.33974327e+00,\n",
      "       -1.19297005e+00,  6.24964890e-01,  9.33191692e-01,  9.26622910e-01,\n",
      "       -9.57066726e-01,  1.57670425e-01, -1.04099433e+00, -1.05258494e+00,\n",
      "       -5.44111100e-01, -2.63134663e-01,  9.56387103e-01, -1.45729519e-01,\n",
      "        6.42180936e-01,  1.05151318e+00, -3.50994632e-01, -9.95885500e-01,\n",
      "       -7.41179482e-01,  9.36842018e-01]), 'rsquared': 0.7423174058026885, 'rsquared_adj': 0.7368925090827451, 'uncentered_tss': 8635585496521.517}\n",
      "obj._data_attr = []\n",
      "obj._get_robustcov_results = <bound method LikelihoodModelResults._get_robustcov_results of <statsmodels.regression.linear_model.OLSResults object at 0x0000021EC20BF2B0>>\n",
      "obj._is_nested = <bound method RegressionResults._is_nested of <statsmodels.regression.linear_model.OLSResults object at 0x0000021EC20BF2B0>>\n",
      "obj._wexog_singular_values = array([2.16001649e+04, 2.50288205e+03, 2.30022992e-02])\n",
      "obj.aic = 2342.1208549476537\n",
      "obj.bic = 2349.8757573836656\n",
      "obj.bse = const    1.603584e+06\n",
      "size     1.368428e+01\n",
      "year     7.961439e+02\n",
      "dtype: float64\n",
      "obj.centered_tss = 501608126045.9697\n",
      "obj.compare_f_test = <bound method RegressionResults.compare_f_test of <statsmodels.regression.linear_model.OLSResults object at 0x0000021EC20BF2B0>>\n",
      "obj.compare_lm_test = <bound method RegressionResults.compare_lm_test of <statsmodels.regression.linear_model.OLSResults object at 0x0000021EC20BF2B0>>\n",
      "obj.compare_lr_test = <bound method RegressionResults.compare_lr_test of <statsmodels.regression.linear_model.OLSResults object at 0x0000021EC20BF2B0>>\n",
      "obj.condition_number = 939043.7323303133\n",
      "obj.conf_int = <bound method RegressionResults.conf_int of <statsmodels.regression.linear_model.RegressionResultsWrapper object at 0x0000021EC21ABFD0>>\n",
      "obj.conf_int_el = <bound method OLSResults.conf_int_el of <statsmodels.regression.linear_model.OLSResults object at 0x0000021EC20BF2B0>>\n",
      "obj.cov_HC0 = array([[ 2.58650077e+12, -1.64121928e+06, -1.28460168e+09],\n",
      "       [-1.64121928e+06,  2.30500126e+02,  7.25055910e+02],\n",
      "       [-1.28460168e+09,  7.25055910e+02,  6.38043959e+05]])\n",
      "obj.cov_HC1 = array([[ 2.66817974e+12, -1.69304726e+06, -1.32516805e+09],\n",
      "       [-1.69304726e+06,  2.37779077e+02,  7.47952413e+02],\n",
      "       [-1.32516805e+09,  7.47952413e+02,  6.58192715e+05]])\n",
      "obj.cov_HC2 = array([[ 2.68602748e+12, -1.72049885e+06, -1.33401367e+09],\n",
      "       [-1.72049885e+06,  2.43433326e+02,  7.59588669e+02],\n",
      "       [-1.33401367e+09,  7.59588669e+02,  6.62577418e+05]])\n",
      "obj.cov_HC3 = array([[ 2.79005843e+12, -1.80343532e+06, -1.38566153e+09],\n",
      "       [-1.80343532e+06,  2.57230905e+02,  7.95621772e+02],\n",
      "       [-1.38566153e+09,  7.95621772e+02,  6.88220857e+05]])\n",
      "obj.cov_kwds = {'description': 'Standard Errors assume that the covariance matrix of the errors is correctly specified.'}\n",
      "obj.cov_params = <bound method LikelihoodModelResults.cov_params of <statsmodels.regression.linear_model.RegressionResultsWrapper object at 0x0000021EC21ABFD0>>\n",
      "obj.cov_type = 'nonrobust'\n",
      "obj.df_model = 2.0\n",
      "obj.df_resid = 95.0\n",
      "obj.eigenvals = array([4.66567123e+08, 6.26441854e+06, 5.29105768e-04])\n",
      "obj.el_test = <bound method OLSResults.el_test of <statsmodels.regression.linear_model.OLSResults object at 0x0000021EC20BF2B0>>\n",
      "obj.ess = 372352442855.9922\n",
      "obj.f_pvalue = 1.0630201397628987e-28\n",
      "obj.f_test = <bound method LikelihoodModelResults.f_test of <statsmodels.regression.linear_model.OLSResults object at 0x0000021EC20BF2B0>>\n",
      "obj.fittedvalues = 0     251313.672930\n",
      "1     237635.299155\n",
      "2     224551.643862\n",
      "3     445321.940026\n",
      "4     377061.150786\n",
      "5     211073.537057\n",
      "6     235057.380559\n",
      "7     221347.423773\n",
      "8     268450.387956\n",
      "9     246258.789429\n",
      "10    328630.008279\n",
      "12    262893.466789\n",
      "13    342074.280509\n",
      "14    374485.300409\n",
      "15    392218.618790\n",
      "16    270314.682981\n",
      "17    222049.911753\n",
      "18    234913.097115\n",
      "19    346241.925548\n",
      "20    246274.672608\n",
      "21    230284.064794\n",
      "22    378382.941108\n",
      "23    223234.417784\n",
      "24    208272.652506\n",
      "25    363250.240308\n",
      "26    243374.719239\n",
      "27    406898.999678\n",
      "28    259865.113155\n",
      "29    443432.877796\n",
      "30    309048.094706\n",
      "          ...      \n",
      "70    319981.750801\n",
      "71    226433.706940\n",
      "72    254269.976515\n",
      "73    230308.831998\n",
      "74    269175.391577\n",
      "75    269175.391577\n",
      "76    381298.777655\n",
      "77    381946.983638\n",
      "78    243498.371916\n",
      "79    349191.229980\n",
      "80    234913.097115\n",
      "81    359219.879561\n",
      "82    234913.097115\n",
      "83    259631.011610\n",
      "84    269175.391577\n",
      "85    342074.280509\n",
      "86    189584.609856\n",
      "87    321436.261171\n",
      "88    250302.781791\n",
      "89    393337.890579\n",
      "90    271210.805469\n",
      "91    347784.185800\n",
      "92    262893.466789\n",
      "93    272059.645113\n",
      "94    238790.290393\n",
      "95    213674.154638\n",
      "96    323469.423499\n",
      "97    420369.923986\n",
      "98    252484.486231\n",
      "99    240366.385221\n",
      "Length: 98, dtype: float64\n",
      "obj.fvalue = 136.83530657343707\n",
      "obj.get_influence = <bound method OLSResults.get_influence of <statsmodels.regression.linear_model.OLSResults object at 0x0000021EC20BF2B0>>\n",
      "obj.get_prediction = <bound method RegressionResults.get_prediction of <statsmodels.regression.linear_model.OLSResults object at 0x0000021EC20BF2B0>>\n",
      "obj.get_robustcov_results = <bound method RegressionResults.get_robustcov_results of <statsmodels.regression.linear_model.OLSResults object at 0x0000021EC20BF2B0>>\n",
      "obj.het_scale = array([2.99221544e+08, 8.56570678e+07, 3.51536551e+09, 2.28049097e+09,\n",
      "       7.22752215e+09, 1.25978508e+09, 9.44501923e+08, 2.25565029e+09,\n",
      "       4.13496876e+09, 7.94500481e+08, 2.51640621e+09, 2.31827126e+09,\n",
      "       6.24405949e+09, 5.43904605e+09, 2.63279907e+09, 5.08535905e+08,\n",
      "       1.59276214e+08, 9.62157933e+07, 2.33377421e+09, 4.95528544e+08,\n",
      "       3.58414027e+09, 1.25100060e+09, 1.66594281e+09, 1.72456462e+09,\n",
      "       5.74498699e+05, 8.60271719e+08, 2.41160123e+03, 1.48191301e+09,\n",
      "       6.48639314e+09, 5.87056316e+07, 9.62089594e+07, 2.95842487e+08,\n",
      "       1.17468278e+09, 5.40750935e+08, 2.32885776e+09, 5.67331147e+06,\n",
      "       6.04818075e+08, 5.96081699e+08, 3.33742073e+08, 7.32796112e+08,\n",
      "       2.73812555e+09, 1.51693590e+08, 6.56811107e+08, 3.91832527e+09,\n",
      "       1.35948380e+09, 8.30181360e+08, 1.46977589e+09, 7.92427134e+07,\n",
      "       2.99117729e+08, 7.35090853e+08, 3.30792606e+09, 3.91656658e+09,\n",
      "       6.19900657e+08, 1.14254388e+07, 7.68609571e+08, 1.28137544e+05,\n",
      "       4.18482089e+09, 2.90049537e+08, 2.63521943e+09, 2.35373579e+05,\n",
      "       3.58184958e+08, 2.32834236e+08, 1.77966881e+09, 1.43991352e+08,\n",
      "       2.30479573e+09, 1.79724992e+09, 6.79906159e+08, 1.54345788e+09,\n",
      "       1.93387615e+09, 2.17182176e+09, 2.06225084e+09, 3.61863431e+08,\n",
      "       1.75861335e+09, 3.03889862e+08, 7.37763953e+05, 2.92015890e+08,\n",
      "       6.77249852e+07, 4.20505637e+07, 3.20509372e+09, 2.57103342e+09,\n",
      "       2.08135911e+09, 5.61560412e+08, 1.24793247e+09, 1.24065019e+09,\n",
      "       1.38652876e+09, 3.52240801e+07, 1.56464272e+09, 1.66934774e+09,\n",
      "       4.24009554e+08, 9.83988261e+07, 1.28294977e+09, 3.04086882e+07,\n",
      "       6.02006506e+08, 1.59637983e+09, 1.74712520e+08, 1.60927048e+09,\n",
      "       7.73517388e+08, 1.28030796e+09])\n",
      "obj.initialize = <bound method Results.initialize of <statsmodels.regression.linear_model.OLSResults object at 0x0000021EC20BF2B0>>\n",
      "obj.k_constant = 1\n",
      "obj.llf = -1168.0604274738268\n",
      "obj.load = <bound method ResultsWrapper.load of <class 'statsmodels.regression.linear_model.RegressionResultsWrapper'>>\n",
      "obj.model = <statsmodels.regression.linear_model.OLS object at 0x0000021EC21ABEB8>\n",
      "obj.mse_model = 186176221427.9961\n",
      "obj.mse_resid = 1360586138.8418686\n",
      "obj.mse_total = 5171217794.288347\n",
      "obj.nobs = 98.0\n",
      "obj.normalized_cov_params =              const          size          year\n",
      "const  1889.980820 -1.854012e-03 -9.383074e-01\n",
      "size     -0.001854  1.376315e-07  8.640242e-07\n",
      "year     -0.938307  8.640242e-07  4.658618e-04\n",
      "obj.outlier_test = <bound method OLSResults.outlier_test of <statsmodels.regression.linear_model.OLSResults object at 0x0000021EC20BF2B0>>\n",
      "obj.params = const   -5.479961e+06\n",
      "size     2.251564e+02\n",
      "year     2.772446e+03\n",
      "dtype: float64\n",
      "obj.predict = <bound method Results.predict of <statsmodels.regression.linear_model.OLSResults object at 0x0000021EC20BF2B0>>\n",
      "obj.pvalues = const    9.325403e-04\n",
      "size     1.471793e-29\n",
      "year     7.530334e-04\n",
      "dtype: float64\n",
      "obj.remove_data = <bound method LikelihoodModelResults.remove_data of <statsmodels.regression.linear_model.OLSResults object at 0x0000021EC20BF2B0>>\n",
      "obj.resid = 0    -16999.528930\n",
      "1     -9053.771155\n",
      "2     57074.692138\n",
      "3    -44066.332026\n",
      "4     81613.105214\n",
      "5     33976.742943\n",
      "6     30071.683441\n",
      "7    -45630.943773\n",
      "8     62650.956044\n",
      "9    -27628.181429\n",
      "10   -49074.912279\n",
      "12   -47421.362789\n",
      "13    76678.727491\n",
      "14    69706.707591\n",
      "15    47982.997210\n",
      "16   -21977.082981\n",
      "17    12128.248247\n",
      "18    -9461.113115\n",
      "19   -46824.949548\n",
      "20    21850.407392\n",
      "21   -58488.824794\n",
      "22    34186.530892\n",
      "23   -39774.929784\n",
      "24   -40225.388506\n",
      "25     -730.520308\n",
      "26    28418.592761\n",
      "27      -46.695678\n",
      "28    37895.326845\n",
      "29   -74444.445796\n",
      "30    -7412.366706\n",
      "          ...     \n",
      "70   -43106.118801\n",
      "71   -44846.130940\n",
      "72    44656.519485\n",
      "73   -18584.735998\n",
      "74   -40862.367577\n",
      "75    16986.208423\n",
      "76      821.374345\n",
      "77   -16083.047638\n",
      "78     8061.668084\n",
      "79    -6202.773980\n",
      "80   -54605.881115\n",
      "81    49417.936439\n",
      "82   -44004.041115\n",
      "83    23052.532390\n",
      "84    34421.824423\n",
      "85    34179.527491\n",
      "86   -35302.481856\n",
      "87     5815.850829\n",
      "88   -38398.245791\n",
      "89   -38825.778579\n",
      "90   -20070.149469\n",
      "91    -9706.017800\n",
      "92    35277.413211\n",
      "93    -5375.397113\n",
      "94    23687.565607\n",
      "95    38786.245362\n",
      "96   -12946.831499\n",
      "97   -36734.355986\n",
      "98   -27339.238231\n",
      "99    34556.470779\n",
      "Length: 98, dtype: float64\n",
      "obj.resid_pearson = array([-4.60865147e-01, -2.45451953e-01,  1.54732149e+00, -1.19465879e+00,\n",
      "        2.21256929e+00,  9.21125326e-01,  8.15257344e-01, -1.23707614e+00,\n",
      "        1.69849660e+00, -7.49012867e-01, -1.33044373e+00, -1.28561523e+00,\n",
      "        2.07879602e+00,  1.88978131e+00,  1.30084140e+00, -5.95808956e-01,\n",
      "        3.28802459e-01, -2.56495183e-01, -1.26944619e+00,  5.92374721e-01,\n",
      "       -1.58565928e+00,  9.26812775e-01, -1.07831687e+00, -1.09052902e+00,\n",
      "       -1.98047458e-02,  7.70441286e-01, -1.26594158e-03,  1.02735996e+00,\n",
      "       -2.01822360e+00, -2.00952714e-01, -2.56486074e-01, -4.54423720e-01,\n",
      "       -9.06043528e-01, -6.15207673e-01,  1.27148234e+00,  6.26005492e-02,\n",
      "        6.37961951e-01,  6.44953221e-01, -4.87855717e-01, -7.20344491e-01,\n",
      "       -1.38215021e+00,  3.28465874e-01,  6.61992182e-01, -1.64120059e+00,\n",
      "        9.84629712e-01, -7.63077498e-01, -1.00341913e+00,  2.37048259e-01,\n",
      "        4.60143328e-01, -7.22507269e-01,  1.53047612e+00, -1.66308455e+00,\n",
      "        6.52559419e-01,  9.00758056e-02, -7.28311224e-01, -9.29331519e-03,\n",
      "        1.70030946e+00,  4.51727606e-01, -1.35855650e+00, -1.29559093e-02,\n",
      "       -4.96025685e-01,  4.05494522e-01,  1.12604217e+00,  3.21118607e-01,\n",
      "        1.25918013e+00,  1.12285910e+00,  6.88810580e-01,  9.76841544e-01,\n",
      "       -1.16862696e+00, -1.21579950e+00,  1.21065904e+00, -5.03840849e-01,\n",
      "       -1.10779782e+00,  4.60504022e-01,  2.22678411e-02, -4.36018912e-01,\n",
      "        2.18555577e-01, -1.68160092e-01, -1.48039087e+00,  1.33974327e+00,\n",
      "       -1.19297005e+00,  6.24964890e-01,  9.33191692e-01,  9.26622910e-01,\n",
      "       -9.57066726e-01,  1.57670425e-01, -1.04099433e+00, -1.05258494e+00,\n",
      "       -5.44111100e-01, -2.63134663e-01,  9.56387103e-01, -1.45729519e-01,\n",
      "        6.42180936e-01,  1.05151318e+00, -3.50994632e-01, -9.95885500e-01,\n",
      "       -7.41179482e-01,  9.36842018e-01])\n",
      "obj.rsquared = 0.7423174058026885\n",
      "obj.rsquared_adj = 0.7368925090827451\n",
      "obj.save = <bound method ResultsWrapper.save of <statsmodels.regression.linear_model.RegressionResultsWrapper object at 0x0000021EC21ABFD0>>\n",
      "obj.scale = 1360586138.8418686\n",
      "obj.ssr = 129255683189.97752\n",
      "obj.summary = <bound method RegressionResults.summary of <statsmodels.regression.linear_model.OLSResults object at 0x0000021EC20BF2B0>>\n",
      "obj.summary2 = <bound method RegressionResults.summary2 of <statsmodels.regression.linear_model.OLSResults object at 0x0000021EC20BF2B0>>\n",
      "obj.t_test = <bound method LikelihoodModelResults.t_test of <statsmodels.regression.linear_model.OLSResults object at 0x0000021EC20BF2B0>>\n",
      "obj.t_test_pairwise = <bound method LikelihoodModelResults.t_test_pairwise of <statsmodels.regression.linear_model.OLSResults object at 0x0000021EC20BF2B0>>\n",
      "obj.tvalues = const    -3.417321\n",
      "size     16.453653\n",
      "year      3.482343\n",
      "dtype: float64\n",
      "obj.uncentered_tss = 8635585496521.517\n",
      "obj.use_t = True\n",
      "obj.wald_test = <bound method LikelihoodModelResults.wald_test of <statsmodels.regression.linear_model.OLSResults object at 0x0000021EC20BF2B0>>\n",
      "obj.wald_test_terms = <bound method LikelihoodModelResults.wald_test_terms of <statsmodels.regression.linear_model.OLSResults object at 0x0000021EC20BF2B0>>\n",
      "obj.wresid = 0    -16999.528930\n",
      "1     -9053.771155\n",
      "2     57074.692138\n",
      "3    -44066.332026\n",
      "4     81613.105214\n",
      "5     33976.742943\n",
      "6     30071.683441\n",
      "7    -45630.943773\n",
      "8     62650.956044\n",
      "9    -27628.181429\n",
      "10   -49074.912279\n",
      "12   -47421.362789\n",
      "13    76678.727491\n",
      "14    69706.707591\n",
      "15    47982.997210\n",
      "16   -21977.082981\n",
      "17    12128.248247\n",
      "18    -9461.113115\n",
      "19   -46824.949548\n",
      "20    21850.407392\n",
      "21   -58488.824794\n",
      "22    34186.530892\n",
      "23   -39774.929784\n",
      "24   -40225.388506\n",
      "25     -730.520308\n",
      "26    28418.592761\n",
      "27      -46.695678\n",
      "28    37895.326845\n",
      "29   -74444.445796\n",
      "30    -7412.366706\n",
      "          ...     \n",
      "70   -43106.118801\n",
      "71   -44846.130940\n",
      "72    44656.519485\n",
      "73   -18584.735998\n",
      "74   -40862.367577\n",
      "75    16986.208423\n",
      "76      821.374345\n",
      "77   -16083.047638\n",
      "78     8061.668084\n",
      "79    -6202.773980\n",
      "80   -54605.881115\n",
      "81    49417.936439\n",
      "82   -44004.041115\n",
      "83    23052.532390\n",
      "84    34421.824423\n",
      "85    34179.527491\n",
      "86   -35302.481856\n",
      "87     5815.850829\n",
      "88   -38398.245791\n",
      "89   -38825.778579\n",
      "90   -20070.149469\n",
      "91    -9706.017800\n",
      "92    35277.413211\n",
      "93    -5375.397113\n",
      "94    23687.565607\n",
      "95    38786.245362\n",
      "96   -12946.831499\n",
      "97   -36734.355986\n",
      "98   -27339.238231\n",
      "99    34556.470779\n",
      "Length: 98, dtype: float64\n",
      "None\n"
     ]
    }
   ],
   "source": [
    "def dump(obj):\n",
    "  for attr in dir(obj):\n",
    "    print(\"obj.%s = %r\" % (attr, getattr(obj, attr)))\n",
    "    \n",
    "print(dump(results))"
   ]
  },
  {
   "cell_type": "markdown",
   "metadata": {},
   "source": [
    "#### Estimated sum of squares:"
   ]
  },
  {
   "cell_type": "code",
   "execution_count": 48,
   "metadata": {},
   "outputs": [
    {
     "data": {
      "text/plain": [
       "372352442855.9922"
      ]
     },
     "execution_count": 48,
     "metadata": {},
     "output_type": "execute_result"
    }
   ],
   "source": [
    "results.ess"
   ]
  },
  {
   "cell_type": "markdown",
   "metadata": {},
   "source": [
    "#### F Statistic P - value and f - value:"
   ]
  },
  {
   "cell_type": "code",
   "execution_count": 57,
   "metadata": {},
   "outputs": [
    {
     "data": {
      "text/plain": [
       "(1.0630201397628987e-28, 136.83530657343707)"
      ]
     },
     "execution_count": 57,
     "metadata": {},
     "output_type": "execute_result"
    }
   ],
   "source": [
    "results.f_pvalue,results.fvalue"
   ]
  },
  {
   "cell_type": "markdown",
   "metadata": {},
   "source": [
    "#### Fitted values:"
   ]
  },
  {
   "cell_type": "code",
   "execution_count": 58,
   "metadata": {},
   "outputs": [
    {
     "data": {
      "text/plain": [
       "0    251313.672930\n",
       "1    237635.299155\n",
       "2    224551.643862\n",
       "3    445321.940026\n",
       "4    377061.150786\n",
       "dtype: float64"
      ]
     },
     "execution_count": 58,
     "metadata": {},
     "output_type": "execute_result"
    }
   ],
   "source": [
    "results.fittedvalues.head()"
   ]
  },
  {
   "cell_type": "markdown",
   "metadata": {},
   "source": [
    "#### P - values:"
   ]
  },
  {
   "cell_type": "code",
   "execution_count": 37,
   "metadata": {},
   "outputs": [
    {
     "data": {
      "text/plain": [
       "const    9.325403e-04\n",
       "size     1.471793e-29\n",
       "year     7.530334e-04\n",
       "dtype: float64"
      ]
     },
     "execution_count": 37,
     "metadata": {},
     "output_type": "execute_result"
    }
   ],
   "source": [
    "results.pvalues"
   ]
  },
  {
   "cell_type": "markdown",
   "metadata": {},
   "source": [
    "#### Coefficients:"
   ]
  },
  {
   "cell_type": "code",
   "execution_count": 38,
   "metadata": {},
   "outputs": [
    {
     "data": {
      "text/plain": [
       "const   -5.479961e+06\n",
       "size     2.251564e+02\n",
       "year     2.772446e+03\n",
       "dtype: float64"
      ]
     },
     "execution_count": 38,
     "metadata": {},
     "output_type": "execute_result"
    }
   ],
   "source": [
    "results.params"
   ]
  },
  {
   "cell_type": "markdown",
   "metadata": {},
   "source": [
    "#### Confidence Interval:"
   ]
  },
  {
   "cell_type": "code",
   "execution_count": 40,
   "metadata": {},
   "outputs": [
    {
     "data": {
      "text/html": [
       "<div>\n",
       "<style scoped>\n",
       "    .dataframe tbody tr th:only-of-type {\n",
       "        vertical-align: middle;\n",
       "    }\n",
       "\n",
       "    .dataframe tbody tr th {\n",
       "        vertical-align: top;\n",
       "    }\n",
       "\n",
       "    .dataframe thead th {\n",
       "        text-align: right;\n",
       "    }\n",
       "</style>\n",
       "<table border=\"1\" class=\"dataframe\">\n",
       "  <thead>\n",
       "    <tr style=\"text-align: right;\">\n",
       "      <th></th>\n",
       "      <th>0</th>\n",
       "      <th>1</th>\n",
       "    </tr>\n",
       "  </thead>\n",
       "  <tbody>\n",
       "    <tr>\n",
       "      <th>const</th>\n",
       "      <td>-8.663478e+06</td>\n",
       "      <td>-2.296445e+06</td>\n",
       "    </tr>\n",
       "    <tr>\n",
       "      <th>size</th>\n",
       "      <td>1.979897e+02</td>\n",
       "      <td>2.523231e+02</td>\n",
       "    </tr>\n",
       "    <tr>\n",
       "      <th>year</th>\n",
       "      <td>1.191901e+03</td>\n",
       "      <td>4.352992e+03</td>\n",
       "    </tr>\n",
       "  </tbody>\n",
       "</table>\n",
       "</div>"
      ],
      "text/plain": [
       "                  0             1\n",
       "const -8.663478e+06 -2.296445e+06\n",
       "size   1.979897e+02  2.523231e+02\n",
       "year   1.191901e+03  4.352992e+03"
      ]
     },
     "execution_count": 40,
     "metadata": {},
     "output_type": "execute_result"
    }
   ],
   "source": [
    "results.conf_int()"
   ]
  },
  {
   "cell_type": "code",
   "execution_count": 41,
   "metadata": {},
   "outputs": [
    {
     "data": {
      "text/plain": [
       "const   -8.663478e+06\n",
       "size     1.979897e+02\n",
       "year     1.191901e+03\n",
       "Name: 0, dtype: float64"
      ]
     },
     "execution_count": 41,
     "metadata": {},
     "output_type": "execute_result"
    }
   ],
   "source": [
    "# Lower limit.\n",
    "results.conf_int()[0]"
   ]
  },
  {
   "cell_type": "code",
   "execution_count": 42,
   "metadata": {},
   "outputs": [
    {
     "data": {
      "text/plain": [
       "const   -2.296445e+06\n",
       "size     2.523231e+02\n",
       "year     4.352992e+03\n",
       "Name: 1, dtype: float64"
      ]
     },
     "execution_count": 42,
     "metadata": {},
     "output_type": "execute_result"
    }
   ],
   "source": [
    "# Upper limit.\n",
    "results.conf_int()[1]"
   ]
  },
  {
   "cell_type": "code",
   "execution_count": 59,
   "metadata": {},
   "outputs": [
    {
     "data": {
      "text/html": [
       "<table class=\"simpletable\">\n",
       "<caption>OLS Regression Results</caption>\n",
       "<tr>\n",
       "  <th>Dep. Variable:</th>          <td>price</td>      <th>  R-squared:         </th> <td>   0.742</td>\n",
       "</tr>\n",
       "<tr>\n",
       "  <th>Model:</th>                   <td>OLS</td>       <th>  Adj. R-squared:    </th> <td>   0.737</td>\n",
       "</tr>\n",
       "<tr>\n",
       "  <th>Method:</th>             <td>Least Squares</td>  <th>  F-statistic:       </th> <td>   136.8</td>\n",
       "</tr>\n",
       "<tr>\n",
       "  <th>Date:</th>             <td>Sat, 18 Jan 2020</td> <th>  Prob (F-statistic):</th> <td>1.06e-28</td>\n",
       "</tr>\n",
       "<tr>\n",
       "  <th>Time:</th>                 <td>16:04:29</td>     <th>  Log-Likelihood:    </th> <td> -1168.1</td>\n",
       "</tr>\n",
       "<tr>\n",
       "  <th>No. Observations:</th>      <td>    98</td>      <th>  AIC:               </th> <td>   2342.</td>\n",
       "</tr>\n",
       "<tr>\n",
       "  <th>Df Residuals:</th>          <td>    95</td>      <th>  BIC:               </th> <td>   2350.</td>\n",
       "</tr>\n",
       "<tr>\n",
       "  <th>Df Model:</th>              <td>     2</td>      <th>                     </th>     <td> </td>   \n",
       "</tr>\n",
       "<tr>\n",
       "  <th>Covariance Type:</th>      <td>nonrobust</td>    <th>                     </th>     <td> </td>   \n",
       "</tr>\n",
       "</table>\n",
       "<table class=\"simpletable\">\n",
       "<tr>\n",
       "    <td></td>       <th>coef</th>     <th>std err</th>      <th>t</th>      <th>P>|t|</th>  <th>[0.025</th>    <th>0.975]</th>  \n",
       "</tr>\n",
       "<tr>\n",
       "  <th>const</th> <td> -5.48e+06</td> <td>  1.6e+06</td> <td>   -3.417</td> <td> 0.001</td> <td>-8.66e+06</td> <td> -2.3e+06</td>\n",
       "</tr>\n",
       "<tr>\n",
       "  <th>size</th>  <td>  225.1564</td> <td>   13.684</td> <td>   16.454</td> <td> 0.000</td> <td>  197.990</td> <td>  252.323</td>\n",
       "</tr>\n",
       "<tr>\n",
       "  <th>year</th>  <td> 2772.4462</td> <td>  796.144</td> <td>    3.482</td> <td> 0.001</td> <td> 1191.901</td> <td> 4352.992</td>\n",
       "</tr>\n",
       "</table>\n",
       "<table class=\"simpletable\">\n",
       "<tr>\n",
       "  <th>Omnibus:</th>       <td> 9.601</td> <th>  Durbin-Watson:     </th> <td>   2.223</td>\n",
       "</tr>\n",
       "<tr>\n",
       "  <th>Prob(Omnibus):</th> <td> 0.008</td> <th>  Jarque-Bera (JB):  </th> <td>   3.633</td>\n",
       "</tr>\n",
       "<tr>\n",
       "  <th>Skew:</th>          <td> 0.119</td> <th>  Prob(JB):          </th> <td>   0.163</td>\n",
       "</tr>\n",
       "<tr>\n",
       "  <th>Kurtosis:</th>      <td> 2.087</td> <th>  Cond. No.          </th> <td>9.39e+05</td>\n",
       "</tr>\n",
       "</table><br/><br/>Warnings:<br/>[1] Standard Errors assume that the covariance matrix of the errors is correctly specified.<br/>[2] The condition number is large, 9.39e+05. This might indicate that there are<br/>strong multicollinearity or other numerical problems."
      ],
      "text/plain": [
       "<class 'statsmodels.iolib.summary.Summary'>\n",
       "\"\"\"\n",
       "                            OLS Regression Results                            \n",
       "==============================================================================\n",
       "Dep. Variable:                  price   R-squared:                       0.742\n",
       "Model:                            OLS   Adj. R-squared:                  0.737\n",
       "Method:                 Least Squares   F-statistic:                     136.8\n",
       "Date:                Sat, 18 Jan 2020   Prob (F-statistic):           1.06e-28\n",
       "Time:                        16:04:29   Log-Likelihood:                -1168.1\n",
       "No. Observations:                  98   AIC:                             2342.\n",
       "Df Residuals:                      95   BIC:                             2350.\n",
       "Df Model:                           2                                         \n",
       "Covariance Type:            nonrobust                                         \n",
       "==============================================================================\n",
       "                 coef    std err          t      P>|t|      [0.025      0.975]\n",
       "------------------------------------------------------------------------------\n",
       "const       -5.48e+06    1.6e+06     -3.417      0.001   -8.66e+06    -2.3e+06\n",
       "size         225.1564     13.684     16.454      0.000     197.990     252.323\n",
       "year        2772.4462    796.144      3.482      0.001    1191.901    4352.992\n",
       "==============================================================================\n",
       "Omnibus:                        9.601   Durbin-Watson:                   2.223\n",
       "Prob(Omnibus):                  0.008   Jarque-Bera (JB):                3.633\n",
       "Skew:                           0.119   Prob(JB):                        0.163\n",
       "Kurtosis:                       2.087   Cond. No.                     9.39e+05\n",
       "==============================================================================\n",
       "\n",
       "Warnings:\n",
       "[1] Standard Errors assume that the covariance matrix of the errors is correctly specified.\n",
       "[2] The condition number is large, 9.39e+05. This might indicate that there are\n",
       "strong multicollinearity or other numerical problems.\n",
       "\"\"\""
      ]
     },
     "execution_count": 59,
     "metadata": {},
     "output_type": "execute_result"
    }
   ],
   "source": [
    "model1.summary()"
   ]
  },
  {
   "cell_type": "code",
   "execution_count": 107,
   "metadata": {},
   "outputs": [
    {
     "data": {
      "text/html": [
       "<div>\n",
       "<style scoped>\n",
       "    .dataframe tbody tr th:only-of-type {\n",
       "        vertical-align: middle;\n",
       "    }\n",
       "\n",
       "    .dataframe tbody tr th {\n",
       "        vertical-align: top;\n",
       "    }\n",
       "\n",
       "    .dataframe thead th {\n",
       "        text-align: right;\n",
       "    }\n",
       "</style>\n",
       "<table border=\"1\" class=\"dataframe\">\n",
       "  <thead>\n",
       "    <tr style=\"text-align: right;\">\n",
       "      <th></th>\n",
       "      <th>Values</th>\n",
       "    </tr>\n",
       "  </thead>\n",
       "  <tbody>\n",
       "    <tr>\n",
       "      <th>num_observations</th>\n",
       "      <td>9.800000e+01</td>\n",
       "    </tr>\n",
       "    <tr>\n",
       "      <th>num_residuals</th>\n",
       "      <td>9.500000e+01</td>\n",
       "    </tr>\n",
       "    <tr>\n",
       "      <th>degrees_of_freedom</th>\n",
       "      <td>2.000000e+00</td>\n",
       "    </tr>\n",
       "    <tr>\n",
       "      <th>r_squared</th>\n",
       "      <td>7.423174e-01</td>\n",
       "    </tr>\n",
       "    <tr>\n",
       "      <th>r_squared_adjusted</th>\n",
       "      <td>7.368925e-01</td>\n",
       "    </tr>\n",
       "    <tr>\n",
       "      <th>explained_sumOFsquares</th>\n",
       "      <td>3.723524e+11</td>\n",
       "    </tr>\n",
       "    <tr>\n",
       "      <th>residual_sumOFsquares</th>\n",
       "      <td>1.292557e+11</td>\n",
       "    </tr>\n",
       "    <tr>\n",
       "      <th>total_sumOFsquares</th>\n",
       "      <td>5.016081e+11</td>\n",
       "    </tr>\n",
       "    <tr>\n",
       "      <th>mse_model</th>\n",
       "      <td>1.861762e+11</td>\n",
       "    </tr>\n",
       "    <tr>\n",
       "      <th>mse_residue</th>\n",
       "      <td>1.360586e+09</td>\n",
       "    </tr>\n",
       "    <tr>\n",
       "      <th>mse_total</th>\n",
       "      <td>5.171218e+09</td>\n",
       "    </tr>\n",
       "    <tr>\n",
       "      <th>f_pvalue</th>\n",
       "      <td>1.063020e-28</td>\n",
       "    </tr>\n",
       "    <tr>\n",
       "      <th>f_value</th>\n",
       "      <td>1.368353e+02</td>\n",
       "    </tr>\n",
       "    <tr>\n",
       "      <th>log_likelihood</th>\n",
       "      <td>-1.168060e+03</td>\n",
       "    </tr>\n",
       "  </tbody>\n",
       "</table>\n",
       "</div>"
      ],
      "text/plain": [
       "                              Values\n",
       "num_observations        9.800000e+01\n",
       "num_residuals           9.500000e+01\n",
       "degrees_of_freedom      2.000000e+00\n",
       "r_squared               7.423174e-01\n",
       "r_squared_adjusted      7.368925e-01\n",
       "explained_sumOFsquares  3.723524e+11\n",
       "residual_sumOFsquares   1.292557e+11\n",
       "total_sumOFsquares      5.016081e+11\n",
       "mse_model               1.861762e+11\n",
       "mse_residue             1.360586e+09\n",
       "mse_total               5.171218e+09\n",
       "f_pvalue                1.063020e-28\n",
       "f_value                 1.368353e+02\n",
       "log_likelihood         -1.168060e+03"
      ]
     },
     "execution_count": 107,
     "metadata": {},
     "output_type": "execute_result"
    }
   ],
   "source": [
    "# Creating a function that converts the summary object into a dataframe.\n",
    "\n",
    "def global_summary_to_dataframe(results):\n",
    "    myData = dict()\n",
    "    \n",
    "    # Number of observations:\n",
    "    myData['num_observations'] = results.nobs\n",
    "    myData['num_residuals'] = results.df_resid\n",
    "    myData['degrees_of_freedom'] = results.df_model\n",
    "        \n",
    "    # Coefficient of determination:\n",
    "    myData['r_squared'] = results.rsquared\n",
    "    myData['r_squared_adjusted'] = results.rsquared_adj\n",
    "    \n",
    "    # Sum of squares:\n",
    "    myData['explained_sumOFsquares'] = results.ess\n",
    "    myData['residual_sumOFsquares'] = results.ssr\n",
    "    myData['total_sumOFsquares'] = results.ess + results.ssr\n",
    "    \n",
    "    # Mean sum of squares:\n",
    "    myData['mse_model'] = results.mse_model\n",
    "    myData['mse_residue'] = results.mse_resid\n",
    "    myData['mse_total'] = results.mse_total\n",
    "    \n",
    "    # F - statistic:\n",
    "    myData['f_pvalue'] = results.f_pvalue\n",
    "    myData['f_value'] = results.fvalue\n",
    "    \n",
    "    #Log - likelihood functional value.\n",
    "    myData['log_likelihood'] = results.llf\n",
    "    \n",
    "    temp = pd.DataFrame(myData, index = np.arange(1))\n",
    "    temp1 = temp.transpose()\n",
    "    temp1.columns = ['Values']\n",
    "    temp1.style.format(\"{:.1f}\")\n",
    "    return temp1\n",
    "\n",
    "Data = global_summary_to_dataframe(results)\n",
    "Data\n",
    "    \n",
    "    \n",
    "    \n",
    "    "
   ]
  },
  {
   "cell_type": "code",
   "execution_count": 95,
   "metadata": {},
   "outputs": [
    {
     "data": {
      "text/plain": [
       "float"
      ]
     },
     "execution_count": 95,
     "metadata": {},
     "output_type": "execute_result"
    }
   ],
   "source": [
    "type(float(results.ess))"
   ]
  },
  {
   "cell_type": "markdown",
   "metadata": {},
   "source": [
    "### Case II: Using 75% of the data as a training set."
   ]
  },
  {
   "cell_type": "code",
   "execution_count": 21,
   "metadata": {},
   "outputs": [],
   "source": [
    "x_train, x_test, y_train, y_test = train_test_split(X, Y, test_size = 0.25, random_state = 42)"
   ]
  },
  {
   "cell_type": "code",
   "execution_count": 22,
   "metadata": {},
   "outputs": [
    {
     "data": {
      "text/plain": [
       "LinearRegression(copy_X=True, fit_intercept=True, n_jobs=None, normalize=False)"
      ]
     },
     "execution_count": 22,
     "metadata": {},
     "output_type": "execute_result"
    }
   ],
   "source": [
    "newModel = LinearRegression()\n",
    "\n",
    "newModel.fit(x_train, y_train)"
   ]
  },
  {
   "cell_type": "code",
   "execution_count": 23,
   "metadata": {},
   "outputs": [
    {
     "name": "stdout",
     "output_type": "stream",
     "text": [
      "Weight values:  [ 218.71705612 2648.08659193] \n",
      "Intercept:  -5225830.271680301\n"
     ]
    }
   ],
   "source": [
    "# Checking the weights and intercepts values.\n",
    "print('Weight values: ', newModel.coef_, '\\nIntercept: ', newModel.intercept_)"
   ]
  },
  {
   "cell_type": "code",
   "execution_count": 24,
   "metadata": {},
   "outputs": [],
   "source": [
    "# Prediction.\n",
    "y_predicted = newModel.predict(x_test)"
   ]
  },
  {
   "cell_type": "markdown",
   "metadata": {},
   "source": [
    "#### Residuals."
   ]
  },
  {
   "cell_type": "code",
   "execution_count": 25,
   "metadata": {},
   "outputs": [
    {
     "name": "stdout",
     "output_type": "stream",
     "text": [
      "64    42403.005318\n",
      "41   -49762.145537\n",
      "96   -10558.922201\n",
      "19   -43380.136425\n",
      "83    24020.321551\n",
      "85    37505.148284\n",
      "66    48279.579387\n",
      "43    28716.531932\n",
      "10   -46539.413127\n",
      "0    -16404.818673\n",
      "32   -17204.371356\n",
      "77   -12157.920292\n",
      "48     9274.752182\n",
      "27     4997.668380\n",
      "45    37269.335829\n",
      "4     85533.708102\n",
      "23   -39983.270605\n",
      "13    80004.348284\n",
      "92    36203.299131\n",
      "75    18226.961542\n",
      "50   -26027.384891\n",
      "72    45335.778380\n",
      "70   -40817.955002\n",
      "16   -20703.746762\n",
      "40   -23536.394553\n",
      "Name: price, dtype: float64\n"
     ]
    }
   ],
   "source": [
    "error = y_test - y_predicted\n",
    "print(error)"
   ]
  },
  {
   "cell_type": "code",
   "execution_count": 26,
   "metadata": {},
   "outputs": [
    {
     "data": {
      "image/png": "[encoded data removed]",
      "text/plain": [
       "<Figure size 720x576 with 1 Axes>"
      ]
     },
     "metadata": {},
     "output_type": "display_data"
    }
   ],
   "source": [
    "plt.figure( figsize = (10,8) )\n",
    "sns.set(style = 'whitegrid', font_scale = 1.2)\n",
    "\n",
    "sns.scatterplot(x = y_predicted, y = error, color = '#658cb7'\n",
    "               )\n",
    "plt.plot(np.arange(300), np.zeros(300), 'k--', linewidth = 3)\n",
    "plt.xlim(0,300)\n",
    "plt.show()"
   ]
  },
  {
   "cell_type": "markdown",
   "metadata": {},
   "source": [
    "# The End."
   ]
  }
 ],
 "metadata": {
  "kernelspec": {
   "display_name": "Python 3",
   "language": "python",
   "name": "python3"
  },
  "language_info": {
   "codemirror_mode": {
    "name": "ipython",
    "version": 3
   },
   "file_extension": ".py",
   "mimetype": "text/x-python",
   "name": "python",
   "nbconvert_exporter": "python",
   "pygments_lexer": "ipython3",
   "version": "3.7.3"
  }
 },
 "nbformat": 4,
 "nbformat_minor": 2
}
