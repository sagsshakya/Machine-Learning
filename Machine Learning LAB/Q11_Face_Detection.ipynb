{
  "nbformat": 4,
  "nbformat_minor": 0,
  "metadata": {
    "colab": {
      "name": "Q11. Face Detection.ipynb",
      "provenance": [],
      "authorship_tag": "ABX9TyNZEIW/fcqbHp82yCz+pDEb",
      "include_colab_link": true
    },
    "kernelspec": {
      "name": "python3",
      "display_name": "Python 3"
    }
  },
  "cells": [
    {
      "cell_type": "markdown",
      "metadata": {
        "id": "view-in-github",
        "colab_type": "text"
      },
      "source": [
        "<a href=\"https://colab.research.google.com/github/sagsshakya/Machine-Learning/blob/master/Machine%20Learning%20LAB/Q11_Face_Detection.ipynb\" target=\"_parent\"><img src=\"https://colab.research.google.com/assets/colab-badge.svg\" alt=\"Open In Colab\"/></a>"
      ]
    },
    {
      "cell_type": "markdown",
      "metadata": {
        "id": "K0xz6o2_CRQa"
      },
      "source": [
        "# Q11. Face Detection.\r\n",
        "### Problem Statement:\r\n",
        "    Use OpenCV to find a face in an image."
      ]
    },
    {
      "cell_type": "code",
      "metadata": {
        "id": "8Jd_G_qmCeIb"
      },
      "source": [
        "import cv2\r\n",
        "import sys\r\n",
        "\r\n",
        "# Get user supplied values\r\n",
        "imagePath = sys.argv[1]\r\n",
        "cascPath = \"haarcascade_frontalface_default.xml\"\r\n",
        "\r\n",
        "# Create the haar cascade\r\n",
        "faceCascade = cv2.CascadeClassifier(cascPath)\r\n",
        "\r\n",
        "# Read the image\r\n",
        "image = cv2.imread(imagePath)\r\n",
        "gray = cv2.cvtColor(image, cv2.COLOR_BGR2GRAY)\r\n",
        "\r\n",
        "# Detect faces in the image\r\n",
        "faces = faceCascade.detectMultiScale(\r\n",
        "    gray,\r\n",
        "    scaleFactor=1.1,\r\n",
        "    minNeighbors=5,\r\n",
        "    minSize=(30, 30),\r\n",
        "    flags = cv2.cv.CV_HAAR_SCALE_IMAGE\r\n",
        ")\r\n",
        "\r\n",
        "print(\"Found {0} faces!\".format(len(faces)))\r\n",
        "\r\n",
        "# Draw a rectangle around the faces\r\n",
        "for (x, y, w, h) in faces:\r\n",
        "    cv2.rectangle(image, (x, y), (x+w, y+h), (0, 255, 0), 2)\r\n",
        "\r\n",
        "cv2.imshow(\"Faces found\", image)\r\n",
        "cv2.waitKey(0)"
      ],
      "execution_count": null,
      "outputs": []
    }
  ]
}