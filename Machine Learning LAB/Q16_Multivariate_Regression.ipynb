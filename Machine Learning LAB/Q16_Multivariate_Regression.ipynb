{
  "nbformat": 4,
  "nbformat_minor": 0,
  "metadata": {
    "colab": {
      "name": "Q16. Multivariate Regression.ipynb",
      "provenance": [],
      "authorship_tag": "ABX9TyO128PRKykaY1REFKLwPz3V",
      "include_colab_link": true
    },
    "kernelspec": {
      "name": "python3",
      "display_name": "Python 3"
    }
  },
  "cells": [
    {
      "cell_type": "markdown",
      "metadata": {
        "id": "view-in-github",
        "colab_type": "text"
      },
      "source": [
        "<a href=\"https://colab.research.google.com/github/sagsshakya/Machine-Learning/blob/master/Machine%20Learning%20LAB/Q16_Multivariate_Regression.ipynb\" target=\"_parent\"><img src=\"https://colab.research.google.com/assets/colab-badge.svg\" alt=\"Open In Colab\"/></a>"
      ]
    },
    {
      "cell_type": "markdown",
      "metadata": {
        "id": "IDvAaseQDNmd"
      },
      "source": [
        "# Q16. Multivariate Regression.\r\n",
        "### Problem Statement:\r\n",
        "    A  researcher  has  collected  data  on  three  psychological  variables,  four  academic variables (standardized test scores), and the type of educational program the student is in for 600 high school students. She is interested in how the set of psychological variables is related to the academic variables and the type of program the student is in using Multivariate Regression. "
      ]
    },
    {
      "cell_type": "code",
      "metadata": {
        "id": "dGxwo3c1DVfN"
      },
      "source": [
        "import numpy as np\r\n",
        "import pandas as pd\r\n",
        "import matplotlib.pyplot as plt\r\n",
        "import seaborn as sns\r\n",
        "from sklearn.linear_model import LinearRegression"
      ],
      "execution_count": 2,
      "outputs": []
    },
    {
      "cell_type": "code",
      "metadata": {
        "colab": {
          "base_uri": "https://localhost:8080/",
          "height": 424
        },
        "id": "pp8qmpe7drIA",
        "outputId": "e7b56eed-a7b5-46ad-9e96-2178afd3247c"
      },
      "source": [
        "df = pd.read_sas('https://stats.idre.ucla.edu/wp-content/uploads/2016/02/mvreg.sas7bdat')\r\n",
        "df"
      ],
      "execution_count": 3,
      "outputs": [
        {
          "output_type": "execute_result",
          "data": {
            "text/html": [
              "<div>\n",
              "<style scoped>\n",
              "    .dataframe tbody tr th:only-of-type {\n",
              "        vertical-align: middle;\n",
              "    }\n",
              "\n",
              "    .dataframe tbody tr th {\n",
              "        vertical-align: top;\n",
              "    }\n",
              "\n",
              "    .dataframe thead th {\n",
              "        text-align: right;\n",
              "    }\n",
              "</style>\n",
              "<table border=\"1\" class=\"dataframe\">\n",
              "  <thead>\n",
              "    <tr style=\"text-align: right;\">\n",
              "      <th></th>\n",
              "      <th>LOCUS_OF_CONTROL</th>\n",
              "      <th>SELF_CONCEPT</th>\n",
              "      <th>READ</th>\n",
              "      <th>WRITE</th>\n",
              "      <th>SCIENCE</th>\n",
              "      <th>MOTIVATION</th>\n",
              "      <th>PROG</th>\n",
              "    </tr>\n",
              "  </thead>\n",
              "  <tbody>\n",
              "    <tr>\n",
              "      <th>0</th>\n",
              "      <td>-1.143955</td>\n",
              "      <td>0.722641</td>\n",
              "      <td>37.405548</td>\n",
              "      <td>39.032845</td>\n",
              "      <td>33.532822</td>\n",
              "      <td>0.368973</td>\n",
              "      <td>2.0</td>\n",
              "    </tr>\n",
              "    <tr>\n",
              "      <th>1</th>\n",
              "      <td>0.504134</td>\n",
              "      <td>0.111364</td>\n",
              "      <td>52.760784</td>\n",
              "      <td>51.995041</td>\n",
              "      <td>65.225044</td>\n",
              "      <td>0.520319</td>\n",
              "      <td>2.0</td>\n",
              "    </tr>\n",
              "    <tr>\n",
              "      <th>2</th>\n",
              "      <td>1.628546</td>\n",
              "      <td>0.629934</td>\n",
              "      <td>59.771915</td>\n",
              "      <td>54.651653</td>\n",
              "      <td>64.604500</td>\n",
              "      <td>0.436838</td>\n",
              "      <td>2.0</td>\n",
              "    </tr>\n",
              "    <tr>\n",
              "      <th>3</th>\n",
              "      <td>0.368096</td>\n",
              "      <td>-0.138528</td>\n",
              "      <td>42.854324</td>\n",
              "      <td>41.121357</td>\n",
              "      <td>48.493809</td>\n",
              "      <td>-0.004324</td>\n",
              "      <td>3.0</td>\n",
              "    </tr>\n",
              "    <tr>\n",
              "      <th>4</th>\n",
              "      <td>-0.280190</td>\n",
              "      <td>-0.452226</td>\n",
              "      <td>54.756279</td>\n",
              "      <td>49.947208</td>\n",
              "      <td>50.381657</td>\n",
              "      <td>1.256924</td>\n",
              "      <td>2.0</td>\n",
              "    </tr>\n",
              "    <tr>\n",
              "      <th>...</th>\n",
              "      <td>...</td>\n",
              "      <td>...</td>\n",
              "      <td>...</td>\n",
              "      <td>...</td>\n",
              "      <td>...</td>\n",
              "      <td>...</td>\n",
              "      <td>...</td>\n",
              "    </tr>\n",
              "    <tr>\n",
              "      <th>595</th>\n",
              "      <td>-1.664108</td>\n",
              "      <td>0.957749</td>\n",
              "      <td>53.002762</td>\n",
              "      <td>56.568569</td>\n",
              "      <td>57.731705</td>\n",
              "      <td>-0.284300</td>\n",
              "      <td>2.0</td>\n",
              "    </tr>\n",
              "    <tr>\n",
              "      <th>596</th>\n",
              "      <td>-0.947804</td>\n",
              "      <td>-0.983263</td>\n",
              "      <td>48.866882</td>\n",
              "      <td>66.135147</td>\n",
              "      <td>50.199982</td>\n",
              "      <td>0.457832</td>\n",
              "      <td>3.0</td>\n",
              "    </tr>\n",
              "    <tr>\n",
              "      <th>597</th>\n",
              "      <td>-0.435458</td>\n",
              "      <td>-1.302765</td>\n",
              "      <td>73.271301</td>\n",
              "      <td>76.813126</td>\n",
              "      <td>69.573441</td>\n",
              "      <td>-1.459316</td>\n",
              "      <td>1.0</td>\n",
              "    </tr>\n",
              "    <tr>\n",
              "      <th>598</th>\n",
              "      <td>-0.964431</td>\n",
              "      <td>0.072325</td>\n",
              "      <td>40.705734</td>\n",
              "      <td>46.886673</td>\n",
              "      <td>42.320671</td>\n",
              "      <td>-0.343068</td>\n",
              "      <td>1.0</td>\n",
              "    </tr>\n",
              "    <tr>\n",
              "      <th>599</th>\n",
              "      <td>0.645981</td>\n",
              "      <td>0.990596</td>\n",
              "      <td>70.946449</td>\n",
              "      <td>65.757729</td>\n",
              "      <td>80.369415</td>\n",
              "      <td>1.445643</td>\n",
              "      <td>3.0</td>\n",
              "    </tr>\n",
              "  </tbody>\n",
              "</table>\n",
              "<p>600 rows × 7 columns</p>\n",
              "</div>"
            ],
            "text/plain": [
              "     LOCUS_OF_CONTROL  SELF_CONCEPT       READ  ...    SCIENCE  MOTIVATION  PROG\n",
              "0           -1.143955      0.722641  37.405548  ...  33.532822    0.368973   2.0\n",
              "1            0.504134      0.111364  52.760784  ...  65.225044    0.520319   2.0\n",
              "2            1.628546      0.629934  59.771915  ...  64.604500    0.436838   2.0\n",
              "3            0.368096     -0.138528  42.854324  ...  48.493809   -0.004324   3.0\n",
              "4           -0.280190     -0.452226  54.756279  ...  50.381657    1.256924   2.0\n",
              "..                ...           ...        ...  ...        ...         ...   ...\n",
              "595         -1.664108      0.957749  53.002762  ...  57.731705   -0.284300   2.0\n",
              "596         -0.947804     -0.983263  48.866882  ...  50.199982    0.457832   3.0\n",
              "597         -0.435458     -1.302765  73.271301  ...  69.573441   -1.459316   1.0\n",
              "598         -0.964431      0.072325  40.705734  ...  42.320671   -0.343068   1.0\n",
              "599          0.645981      0.990596  70.946449  ...  80.369415    1.445643   3.0\n",
              "\n",
              "[600 rows x 7 columns]"
            ]
          },
          "metadata": {
            "tags": []
          },
          "execution_count": 3
        }
      ]
    },
    {
      "cell_type": "code",
      "metadata": {
        "colab": {
          "base_uri": "https://localhost:8080/",
          "height": 485
        },
        "id": "FNWCP-nIe_ro",
        "outputId": "66ecf5ee-e728-4a93-b383-2893f4fab8f2"
      },
      "source": [
        "# Correlation among the psychological features.\r\n",
        "corr_mat = df[['LOCUS_OF_CONTROL', 'SELF_CONCEPT', 'MOTIVATION']].corr()\r\n",
        "\r\n",
        "plt.figure(figsize = (6,6))\r\n",
        "sns.heatmap(corr_mat, cmap = 'coolwarm', annot = True)\r\n",
        "plt.title('Correlation among the psychological features')\r\n",
        "plt.show()"
      ],
      "execution_count": 4,
      "outputs": [
        {
          "output_type": "display_data",
          "data": {
            "image/png": "[encoded data removed]",
            "text/plain": [
              "<Figure size 432x432 with 2 Axes>"
            ]
          },
          "metadata": {
            "tags": [],
            "needs_background": "light"
          }
        }
      ]
    },
    {
      "cell_type": "code",
      "metadata": {
        "colab": {
          "base_uri": "https://localhost:8080/",
          "height": 390
        },
        "id": "8HRsi-Mif3bI",
        "outputId": "6d058547-a264-426d-e8a7-1b71aa0d90a9"
      },
      "source": [
        "# Correlation among the academic features.\r\n",
        "corr_mat = df[['READ', 'WRITE', 'SCIENCE']].corr()\r\n",
        "\r\n",
        "plt.figure(figsize = (6,6))\r\n",
        "sns.heatmap(corr_mat, cmap = 'coolwarm', annot = True)\r\n",
        "plt.title('Correlation among the academic features')\r\n",
        "plt.show()"
      ],
      "execution_count": 5,
      "outputs": [
        {
          "output_type": "display_data",
          "data": {
            "image/png": "[encoded data removed]",
            "text/plain": [
              "<Figure size 432x432 with 2 Axes>"
            ]
          },
          "metadata": {
            "tags": [],
            "needs_background": "light"
          }
        }
      ]
    },
    {
      "cell_type": "markdown",
      "metadata": {
        "id": "o5IJIJkQiDam"
      },
      "source": [
        "### MANOVA Assumptions:\r\n",
        "    - The dependent variables should be normally distributed within groups. That is, in the example below the dependent variables should be normally distributed within the different treatment groups.\r\n",
        "    - Homogeneity of variances across the range of predictors. This assumption can be tested in Python using Bartlett’s test or Levene’s test.\r\n",
        "    - Linearity between all pairs of dependent variables (e.g., between depression, life satisfaction, and suicide risk), all pairs of covariates, and all dependent variable-covariate pairs in each cell "
      ]
    },
    {
      "cell_type": "code",
      "metadata": {
        "colab": {
          "base_uri": "https://localhost:8080/"
        },
        "id": "nhLBrr2BgMqu",
        "outputId": "dd5c8aa6-59ac-4206-9133-452960960bd2"
      },
      "source": [
        "from statsmodels.multivariate.manova import MANOVA"
      ],
      "execution_count": 6,
      "outputs": [
        {
          "output_type": "stream",
          "text": [
            "/usr/local/lib/python3.6/dist-packages/statsmodels/tools/_testing.py:19: FutureWarning: pandas.util.testing is deprecated. Use the functions in the public API at pandas.testing instead.\n",
            "  import pandas.util.testing as tm\n"
          ],
          "name": "stderr"
        }
      ]
    },
    {
      "cell_type": "code",
      "metadata": {
        "colab": {
          "base_uri": "https://localhost:8080/"
        },
        "id": "9Lr_WwmziWQc",
        "outputId": "8c571b64-30c6-4c6c-9f76-59405f3e54ee"
      },
      "source": [
        "test = MANOVA.from_formula(formula = 'LOCUS_OF_CONTROL + SELF_CONCEPT + MOTIVATION ~ READ + WRITE + SCIENCE + C(PROG)', data = df)\r\n",
        "print(test.mv_test())"
      ],
      "execution_count": 17,
      "outputs": [
        {
          "output_type": "stream",
          "text": [
            "                  Multivariate linear model\n",
            "==============================================================\n",
            "                                                              \n",
            "--------------------------------------------------------------\n",
            "        Intercept        Value  Num DF  Den DF  F Value Pr > F\n",
            "--------------------------------------------------------------\n",
            "           Wilks' lambda 0.8136 3.0000 592.0000 45.1977 0.0000\n",
            "          Pillai's trace 0.1864 3.0000 592.0000 45.1977 0.0000\n",
            "  Hotelling-Lawley trace 0.2290 3.0000 592.0000 45.1977 0.0000\n",
            "     Roy's greatest root 0.2290 3.0000 592.0000 45.1977 0.0000\n",
            "--------------------------------------------------------------\n",
            "                                                              \n",
            "--------------------------------------------------------------\n",
            "        C(PROG)         Value  Num DF   Den DF  F Value Pr > F\n",
            "--------------------------------------------------------------\n",
            "          Wilks' lambda 0.8914 6.0000 1184.0000 11.6708 0.0000\n",
            "         Pillai's trace 0.1086 6.0000 1186.0000 11.3550 0.0000\n",
            " Hotelling-Lawley trace 0.1217 6.0000  787.5581 11.9962 0.0000\n",
            "    Roy's greatest root 0.1209 3.0000  593.0000 23.8935 0.0000\n",
            "--------------------------------------------------------------\n",
            "                                                              \n",
            "--------------------------------------------------------------\n",
            "           READ          Value  Num DF  Den DF  F Value Pr > F\n",
            "--------------------------------------------------------------\n",
            "           Wilks' lambda 0.9764 3.0000 592.0000  4.7644 0.0027\n",
            "          Pillai's trace 0.0236 3.0000 592.0000  4.7644 0.0027\n",
            "  Hotelling-Lawley trace 0.0241 3.0000 592.0000  4.7644 0.0027\n",
            "     Roy's greatest root 0.0241 3.0000 592.0000  4.7644 0.0027\n",
            "--------------------------------------------------------------\n",
            "                                                              \n",
            "--------------------------------------------------------------\n",
            "          WRITE          Value  Num DF  Den DF  F Value Pr > F\n",
            "--------------------------------------------------------------\n",
            "           Wilks' lambda 0.9474 3.0000 592.0000 10.9573 0.0000\n",
            "          Pillai's trace 0.0526 3.0000 592.0000 10.9573 0.0000\n",
            "  Hotelling-Lawley trace 0.0555 3.0000 592.0000 10.9573 0.0000\n",
            "     Roy's greatest root 0.0555 3.0000 592.0000 10.9573 0.0000\n",
            "--------------------------------------------------------------\n",
            "                                                              \n",
            "--------------------------------------------------------------\n",
            "         SCIENCE         Value  Num DF  Den DF  F Value Pr > F\n",
            "--------------------------------------------------------------\n",
            "           Wilks' lambda 0.9834 3.0000 592.0000  3.3299 0.0193\n",
            "          Pillai's trace 0.0166 3.0000 592.0000  3.3299 0.0193\n",
            "  Hotelling-Lawley trace 0.0169 3.0000 592.0000  3.3299 0.0193\n",
            "     Roy's greatest root 0.0169 3.0000 592.0000  3.3299 0.0193\n",
            "==============================================================\n",
            "\n"
          ],
          "name": "stdout"
        }
      ]
    },
    {
      "cell_type": "code",
      "metadata": {
        "colab": {
          "base_uri": "https://localhost:8080/"
        },
        "id": "Oy89acL_nc2o",
        "outputId": "0ab995db-e125-4cd3-ac70-032c4fde7940"
      },
      "source": [
        "test2 = MANOVA.from_formula(formula = 'READ + WRITE + SCIENCE + C(PROG) ~ LOCUS_OF_CONTROL + SELF_CONCEPT + MOTIVATION', data = df)\r\n",
        "print(test2.mv_test())"
      ],
      "execution_count": 8,
      "outputs": [
        {
          "output_type": "stream",
          "text": [
            "                                 Multivariate linear model\n",
            "============================================================================================\n",
            "                                                                                            \n",
            "--------------------------------------------------------------------------------------------\n",
            "       Intercept                Value         Num DF  Den DF          F Value         Pr > F\n",
            "--------------------------------------------------------------------------------------------\n",
            "          Wilks' lambda                0.0000 6.0000 591.0000 110901140823998352.0000 0.0000\n",
            "         Pillai's trace                1.0000 6.0000 591.0000 110901140823998368.0000 0.0000\n",
            " Hotelling-Lawley trace 1125899906842623.0000 6.0000 591.0000 110901140823998368.0000 0.0000\n",
            "    Roy's greatest root 1125899906842623.0000 6.0000 591.0000 110901140823998368.0000 0.0000\n",
            "--------------------------------------------------------------------------------------------\n",
            "                                                                                            \n",
            "--------------------------------------------------------------------------------------------------\n",
            "           LOCUS_OF_CONTROL          Value        Num DF        Den DF        F Value       Pr > F\n",
            "--------------------------------------------------------------------------------------------------\n",
            "                 Wilks' lambda       0.8445       5.0000       592.0000       21.7970       0.0000\n",
            "                Pillai's trace       0.1565       5.0000       592.0000       21.9642       0.0000\n",
            "        Hotelling-Lawley trace       0.1829       5.0000       592.0000       21.6560       0.0000\n",
            "           Roy's greatest root       0.1761       5.0000       592.0000       20.8553       0.0000\n",
            "--------------------------------------------------------------------------------------------\n",
            "                                                                                            \n",
            "--------------------------------------------------------------------------------------------------\n",
            "             SELF_CONCEPT            Value        Num DF        Den DF        F Value       Pr > F\n",
            "--------------------------------------------------------------------------------------------------\n",
            "                 Wilks' lambda       0.9654       5.0000       592.0000        4.2415       0.0009\n",
            "                Pillai's trace       0.0346       5.0000       592.0000        4.2498       0.0008\n",
            "        Hotelling-Lawley trace       0.0358       5.0000       592.0000        4.2336       0.0009\n",
            "           Roy's greatest root       0.0338       5.0000       592.0000        3.9980       0.0014\n",
            "--------------------------------------------------------------------------------------------\n",
            "                                                                                            \n",
            "--------------------------------------------------------------------------------------------------\n",
            "              MOTIVATION             Value        Num DF        Den DF        F Value       Pr > F\n",
            "--------------------------------------------------------------------------------------------------\n",
            "                 Wilks' lambda       0.8993       5.0000       592.0000       13.2604       0.0000\n",
            "                Pillai's trace       0.1007       5.0000       592.0000       13.2604       0.0000\n",
            "        Hotelling-Lawley trace       0.1120       5.0000       592.0000       13.2604       0.0000\n",
            "           Roy's greatest root       0.1120       5.0000       592.0000       13.2604       0.0000\n",
            "============================================================================================\n",
            "\n"
          ],
          "name": "stdout"
        }
      ]
    },
    {
      "cell_type": "code",
      "metadata": {
        "id": "DNm3swruMfYf"
      },
      "source": [
        ""
      ],
      "execution_count": null,
      "outputs": []
    }
  ]
}