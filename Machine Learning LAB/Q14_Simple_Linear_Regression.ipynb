{
  "nbformat": 4,
  "nbformat_minor": 0,
  "metadata": {
    "colab": {
      "name": "Q14. Simple Linear Regression.ipynb",
      "provenance": [],
      "authorship_tag": "ABX9TyOTkX3vIy39uMNpGyqSP47A",
      "include_colab_link": true
    },
    "kernelspec": {
      "name": "python3",
      "display_name": "Python 3"
    }
  },
  "cells": [
    {
      "cell_type": "markdown",
      "metadata": {
        "id": "view-in-github",
        "colab_type": "text"
      },
      "source": [
        "<a href=\"https://colab.research.google.com/github/sagsshakya/Machine-Learning/blob/master/Machine%20Learning%20LAB/Q14_Simple_Linear_Regression.ipynb\" target=\"_parent\"><img src=\"https://colab.research.google.com/assets/colab-badge.svg\" alt=\"Open In Colab\"/></a>"
      ]
    },
    {
      "cell_type": "markdown",
      "metadata": {
        "id": "Bf5w4xEGroTh"
      },
      "source": [
        "# Q14. Simple Linear Regression.\r\n",
        "### Problem Statement:\r\n",
        "    Consider a dataset where we have a value of response y for every feature x. \r\n",
        "        a)Find a line which fits best and predict the response for any new feature values using simple linear regression.\r\n",
        "        b)Find the errors using Least Squares technique to fine tune the model."
      ]
    },
    {
      "cell_type": "markdown",
      "metadata": {
        "id": "WhN7KVoVLjpe"
      },
      "source": [
        "# Importing necessary libraries."
      ]
    },
    {
      "cell_type": "code",
      "metadata": {
        "id": "cbqhvRXZLpD8"
      },
      "source": [
        "import numpy as np\r\n",
        "import pandas as pd"
      ],
      "execution_count": 1,
      "outputs": []
    },
    {
      "cell_type": "code",
      "metadata": {
        "id": "KaJ3NOIKr859"
      },
      "source": [
        "# The sample data.\r\n",
        "X = np.arange(10).reshape(-1,1)\r\n",
        "Y = np.array([1,3,2,5,7,8,8,9,10,12]).reshape(-1,1)"
      ],
      "execution_count": 6,
      "outputs": []
    },
    {
      "cell_type": "markdown",
      "metadata": {
        "id": "wehc12qDvBGt"
      },
      "source": [
        "# Part 1: Fitting the best fit line (Linear Regression)."
      ]
    },
    {
      "cell_type": "code",
      "metadata": {
        "id": "ImILOxBasXXG"
      },
      "source": [
        "from sklearn.linear_model import LinearRegression\r\n",
        "reg = LinearRegression()\r\n",
        "reg.fit(X, Y)\r\n",
        "Y_pred = reg.predict(X)"
      ],
      "execution_count": 7,
      "outputs": []
    },
    {
      "cell_type": "code",
      "metadata": {
        "colab": {
          "base_uri": "https://localhost:8080/"
        },
        "id": "1bxc5L3QsdVJ",
        "outputId": "f56d989c-d7ea-4aa7-d8a4-8620b0970987"
      },
      "source": [
        "print('The slope of the best fit line is ',round(reg.coef_[0][0], 3))\r\n",
        "print('The intercept of the best fit line is ',  round(reg.intercept_[0], 3))\r\n",
        "print('The fitted linear equation is:\\ny_pred = ' + str(round(reg.coef_[0][0], 3)) + ' * X + ' + str(round(reg.intercept_[0], 3)))"
      ],
      "execution_count": 15,
      "outputs": [
        {
          "output_type": "stream",
          "text": [
            "The slope of the best fit line is  1.17\n",
            "The intercept of the best fit line is  1.236\n",
            "The fitted linear equation is:\n",
            "y_pred = 1.17 * X + 1.236\n"
          ],
          "name": "stdout"
        }
      ]
    },
    {
      "cell_type": "code",
      "metadata": {
        "colab": {
          "base_uri": "https://localhost:8080/",
          "height": 279
        },
        "id": "cOo-TiSZvdDv",
        "outputId": "b0ec41eb-d6e2-4637-d70a-0955c0f407ed"
      },
      "source": [
        "import matplotlib.pyplot as plt\r\n",
        "import seaborn as sns\r\n",
        "\r\n",
        "plt.scatter(X, Y, marker='X')\r\n",
        "plt.scatter(X, Y_pred)\r\n",
        "plt.plot(X, Y_pred, 'k')\r\n",
        "\r\n",
        "plt.xlabel('X')\r\n",
        "plt.ylabel('Y')\r\n",
        "plt.grid()\r\n",
        "plt.xticks(X)\r\n",
        "plt.show()"
      ],
      "execution_count": 24,
      "outputs": [
        {
          "output_type": "display_data",
          "data": {
            "image/png": "[encoded data removed]",
            "text/plain": [
              "<Figure size 432x288 with 1 Axes>"
            ]
          },
          "metadata": {
            "tags": [],
            "needs_background": "light"
          }
        }
      ]
    },
    {
      "cell_type": "markdown",
      "metadata": {
        "id": "QNp2r0PKuz2J"
      },
      "source": [
        "# Part 2: Error on Prediction: Squared errors."
      ]
    },
    {
      "cell_type": "code",
      "metadata": {
        "colab": {
          "base_uri": "https://localhost:8080/",
          "height": 363
        },
        "id": "-Blj8p63s9XG",
        "outputId": "614a38e3-c594-4bca-9f4f-1fcb109f2667"
      },
      "source": [
        "squared_error = (Y - Y_pred)**2\r\n",
        "pd.DataFrame(squared_error.round(3), columns = ['Squared Error'])"
      ],
      "execution_count": 27,
      "outputs": [
        {
          "output_type": "execute_result",
          "data": {
            "text/html": [
              "<div>\n",
              "<style scoped>\n",
              "    .dataframe tbody tr th:only-of-type {\n",
              "        vertical-align: middle;\n",
              "    }\n",
              "\n",
              "    .dataframe tbody tr th {\n",
              "        vertical-align: top;\n",
              "    }\n",
              "\n",
              "    .dataframe thead th {\n",
              "        text-align: right;\n",
              "    }\n",
              "</style>\n",
              "<table border=\"1\" class=\"dataframe\">\n",
              "  <thead>\n",
              "    <tr style=\"text-align: right;\">\n",
              "      <th></th>\n",
              "      <th>Squared Error</th>\n",
              "    </tr>\n",
              "  </thead>\n",
              "  <tbody>\n",
              "    <tr>\n",
              "      <th>0</th>\n",
              "      <td>0.056</td>\n",
              "    </tr>\n",
              "    <tr>\n",
              "      <th>1</th>\n",
              "      <td>0.353</td>\n",
              "    </tr>\n",
              "    <tr>\n",
              "      <th>2</th>\n",
              "      <td>2.483</td>\n",
              "    </tr>\n",
              "    <tr>\n",
              "      <th>3</th>\n",
              "      <td>0.065</td>\n",
              "    </tr>\n",
              "    <tr>\n",
              "      <th>4</th>\n",
              "      <td>1.177</td>\n",
              "    </tr>\n",
              "    <tr>\n",
              "      <th>5</th>\n",
              "      <td>0.838</td>\n",
              "    </tr>\n",
              "    <tr>\n",
              "      <th>6</th>\n",
              "      <td>0.065</td>\n",
              "    </tr>\n",
              "    <tr>\n",
              "      <th>7</th>\n",
              "      <td>0.180</td>\n",
              "    </tr>\n",
              "    <tr>\n",
              "      <th>8</th>\n",
              "      <td>0.353</td>\n",
              "    </tr>\n",
              "    <tr>\n",
              "      <th>9</th>\n",
              "      <td>0.056</td>\n",
              "    </tr>\n",
              "  </tbody>\n",
              "</table>\n",
              "</div>"
            ],
            "text/plain": [
              "   Squared Error\n",
              "0          0.056\n",
              "1          0.353\n",
              "2          2.483\n",
              "3          0.065\n",
              "4          1.177\n",
              "5          0.838\n",
              "6          0.065\n",
              "7          0.180\n",
              "8          0.353\n",
              "9          0.056"
            ]
          },
          "metadata": {
            "tags": []
          },
          "execution_count": 27
        }
      ]
    }
  ]
}