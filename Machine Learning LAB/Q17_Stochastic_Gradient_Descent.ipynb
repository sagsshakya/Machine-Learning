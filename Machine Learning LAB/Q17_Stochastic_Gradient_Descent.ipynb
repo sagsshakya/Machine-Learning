{
  "nbformat": 4,
  "nbformat_minor": 0,
  "metadata": {
    "colab": {
      "name": "Q17. Stochastic Gradient Descent.ipynb",
      "provenance": [],
      "authorship_tag": "ABX9TyN8yxlbW5SP5TibHxEwrGtZ",
      "include_colab_link": true
    },
    "kernelspec": {
      "name": "python3",
      "display_name": "Python 3"
    }
  },
  "cells": [
    {
      "cell_type": "markdown",
      "metadata": {
        "id": "view-in-github",
        "colab_type": "text"
      },
      "source": [
        "<a href=\"https://colab.research.google.com/github/sagsshakya/Machine-Learning/blob/master/Machine%20Learning%20LAB/Q17_Stochastic_Gradient_Descent.ipynb\" target=\"_parent\"><img src=\"https://colab.research.google.com/assets/colab-badge.svg\" alt=\"Open In Colab\"/></a>"
      ]
    },
    {
      "cell_type": "markdown",
      "metadata": {
        "id": "b4uUcsfXDk77"
      },
      "source": [
        "# Q17. Stochastic Gradient Descent.\r\n",
        "### Problem Statement:\r\n",
        "    Demonstrate to find the values of the parameters of a function that minimizes the cost function using Stochastic Gradient Descent."
      ]
    },
    {
      "cell_type": "markdown",
      "metadata": {
        "id": "UaEeRYXkEEna"
      },
      "source": [
        "### Cost function:\r\n",
        "    J(theta0, theta1, theta2,..., thetam) = (1/2*m) * np.sum(h_i, y_i)**2\r\n",
        "\r\n",
        "### Updation Rule:\r\n",
        "    theta0 = theta0 - (alpha/m) * np.sum(h_i - y_i)\r\n",
        "    thetai = thetai - (alpha/m) * np.sum((h_i - y_i) * X_i)"
      ]
    },
    {
      "cell_type": "markdown",
      "metadata": {
        "id": "WhN7KVoVLjpe"
      },
      "source": [
        "# Importing necessary libraries."
      ]
    },
    {
      "cell_type": "code",
      "metadata": {
        "id": "cbqhvRXZLpD8"
      },
      "source": [
        "import numpy as np\r\n",
        "import pandas as pd"
      ],
      "execution_count": 1,
      "outputs": []
    },
    {
      "cell_type": "code",
      "metadata": {
        "id": "UVeZy2IlyfUq"
      },
      "source": [
        "# Constructing the dataset manually.\r\n",
        "from sklearn.datasets import make_regression\r\n",
        "X, Y = make_regression(n_samples = 500,\r\n",
        "                       n_features = 5,\r\n",
        "                       n_informative = 5,\r\n",
        "                       n_targets = 1,\r\n",
        "                       noise = 0.1, \r\n",
        "                       random_state = 100)"
      ],
      "execution_count": 3,
      "outputs": []
    },
    {
      "cell_type": "code",
      "metadata": {
        "id": "dvCi5jaVDlh_"
      },
      "source": [
        "# Normalize X.\r\n",
        "from sklearn.preprocessing import StandardScaler\r\n",
        "scaler = StandardScaler()\r\n",
        "X_scaled = scaler.fit_transform(X)"
      ],
      "execution_count": 5,
      "outputs": []
    },
    {
      "cell_type": "code",
      "metadata": {
        "id": "-ojujv6FE8gB"
      },
      "source": [
        "# Number of training examples.\r\n",
        "m = X.shape[0]\r\n",
        "\r\n",
        "# Number of features.\r\n",
        "num_features = X.shape[1]\r\n",
        "\r\n",
        "# Initiate theta values.\r\n",
        "np.random.seed(100)\r\n",
        "theta = np.random.randn(num_features)\r\n",
        "\r\n",
        "# Define the hypothesis function.\r\n",
        "def hypothesis(theta, X):\r\n",
        "    return theta*X\r\n",
        "\r\n",
        "# Use the definition of cost function.\r\n",
        "def compute_cost(X, Y , theta):\r\n",
        "    Y1 = hypothesis(theta, X)\r\n",
        "    Y1 = np.sum(Y1, axis = 1)\r\n",
        "    return np.sum(np.sqrt((Y1 - Y) ** 2)) / (2*m)\r\n",
        "\r\n",
        "# Gradient Descent algorithm.\r\n",
        "def gradient_descent(X, Y, theta, alpha = 0.01, num_iter = 1000):\r\n",
        "    '''\r\n",
        "    theta -- the weight values to be tuned.\r\n",
        "    alpha -- learning rate.\r\n",
        "    num_iter -- number of iterations.\r\n",
        "    '''\r\n",
        "\r\n",
        "    J = [] # stores value of cost at each iteration.\r\n",
        "    for ii in range(num_iter):\r\n",
        "        Y1 = hypothesis(theta, X)\r\n",
        "        Y1 = np.sum(Y1, axis = 1)\r\n",
        "\r\n",
        "        for jj in range(num_features):\r\n",
        "            theta[jj] -= (alpha/m) * (np.sum((Y1 - Y) * X[:,jj]))\r\n",
        "        cost = compute_cost(X, Y, theta)\r\n",
        "        J.append(cost)\r\n",
        "\r\n",
        "    return J, cost, theta\r\n"
      ],
      "execution_count": 30,
      "outputs": []
    },
    {
      "cell_type": "code",
      "metadata": {
        "colab": {
          "base_uri": "https://localhost:8080/",
          "height": 282
        },
        "id": "MhDWxuXRFuI8",
        "outputId": "56660d70-5345-4609-af68-43c8e4a31244"
      },
      "source": [
        "# Applying gradient descent to find the weights on the given dataset.\r\n",
        "J, j, theta = gradient_descent(X, Y, theta, 0.05, 1000)\r\n",
        "\r\n",
        "# Visualizing the trend of the cost function with the number of iterations.\r\n",
        "import matplotlib.pyplot as plt\r\n",
        "import seaborn as sns\r\n",
        "\r\n",
        "plt.style.use('ggplot')\r\n",
        "sns.scatterplot(x= np.arange(len(J)), y = J, color = 'steelblue')\r\n",
        "plt.xlabel('Number of iterations')\r\n",
        "plt.ylabel('Cost (J)')\r\n",
        "plt.show()"
      ],
      "execution_count": 31,
      "outputs": [
        {
          "output_type": "display_data",
          "data": {
            "image/png": "[encoded data removed]",
            "text/plain": [
              "<Figure size 432x288 with 1 Axes>"
            ]
          },
          "metadata": {
            "tags": []
          }
        }
      ]
    },
    {
      "cell_type": "code",
      "metadata": {
        "colab": {
          "base_uri": "https://localhost:8080/"
        },
        "id": "ryLgoyB7Jwpc",
        "outputId": "1c52224d-3528-4af7-ef83-8e37fc43f590"
      },
      "source": [
        "print('The weight values for each features are: ')\r\n",
        "print(theta.round(3))"
      ],
      "execution_count": 32,
      "outputs": [
        {
          "output_type": "stream",
          "text": [
            "The weight values for each features are: \n",
            "[47.983 86.044 14.339 16.773 54.532]\n"
          ],
          "name": "stdout"
        }
      ]
    }
  ]
}