{
 "cells": [
  {
   "cell_type": "markdown",
   "metadata": {},
   "source": [
    "# Random Forest "
   ]
  },
  {
   "cell_type": "markdown",
   "metadata": {},
   "source": [
    "- Random forest algorithm creates decision trees on data samples and then gets the prediction from each of them and finally selects the best solution by means of voting.\n",
    "- It is an ensemble method which is better than a single decision tree because it reduces the over-fitting by averaging the result."
   ]
  },
  {
   "cell_type": "markdown",
   "metadata": {},
   "source": [
    "### Steps Involved:\n",
    "- Step 1 − First, start with the selection of random samples from a given dataset.\n",
    "\n",
    "- Step 2 − Next, this algorithm will construct a decision tree for every sample. Then it will get the prediction result from every decision tree.\n",
    "\n",
    "- Step 3 − In this step, voting will be performed for every predicted result.\n",
    "\n",
    "- Step 4 − At last, select the most voted prediction result as the final prediction result."
   ]
  },
  {
   "cell_type": "markdown",
   "metadata": {},
   "source": [
    "<img src = 'rfa.jpg' height = 250px width = auto>"
   ]
  },
  {
   "cell_type": "markdown",
   "metadata": {},
   "source": [
    "# Pros and Cons of Random Forest Algorithm:"
   ]
  },
  {
   "cell_type": "markdown",
   "metadata": {},
   "source": [
    "### Pros:\n",
    "\n",
    "- It overcomes the problem of overfitting by averaging or combining the results of different decision trees.\n",
    "\n",
    "- Random forests work well for a large range of data items than a single decision tree does.\n",
    "\n",
    "- Random forest has less variance then single decision tree.\n",
    "\n",
    "- Random forests are very flexible and possess very high accuracy.\n",
    "\n",
    "- Random Forest algorithms maintains good accuracy even a large proportion of the data is missing.\n",
    "##### Scaling of data does not require in random forest algorithm. It maintains good accuracy even after providing data without scaling.\n"
   ]
  },
  {
   "cell_type": "markdown",
   "metadata": {},
   "source": [
    "### Cons:\n",
    "- Complexity is the main disadvantage of Random forest algorithms.\n",
    "\n",
    "- Construction of Random forests are much harder and time-consuming than decision trees.\n",
    "\n",
    "- More computational resources are required to implement Random Forest algorithm.\n",
    "\n",
    "- It is less intuitive in case when we have a large collection of decision trees.\n",
    "\n",
    "- The prediction process using random forests is very time-consuming in comparison with other algorithms."
   ]
  },
  {
   "cell_type": "code",
   "execution_count": 1,
   "metadata": {},
   "outputs": [],
   "source": [
    "import pandas as pd\n",
    "import numpy as np\n",
    "import matplotlib.pyplot as plt\n",
    "import seaborn as sns"
   ]
  },
  {
   "cell_type": "code",
   "execution_count": 2,
   "metadata": {},
   "outputs": [],
   "source": [
    "dataset = pd.read_csv('Position_Salaries.csv')"
   ]
  },
  {
   "cell_type": "code",
   "execution_count": 3,
   "metadata": {},
   "outputs": [],
   "source": [
    "X = dataset.iloc[:,1:2].values\n",
    "y = dataset.iloc[:,2].values"
   ]
  },
  {
   "cell_type": "markdown",
   "metadata": {},
   "source": [
    "### Building a regressor model."
   ]
  },
  {
   "cell_type": "code",
   "execution_count": 4,
   "metadata": {},
   "outputs": [],
   "source": [
    "from sklearn.ensemble import RandomForestRegressor"
   ]
  },
  {
   "cell_type": "code",
   "execution_count": 5,
   "metadata": {},
   "outputs": [],
   "source": [
    "def r_forest(n, objective):\n",
    "    '''\n",
    "    n = Number of estimators.\n",
    "    objective = X_value whose y_value has to be predicted.\n",
    "    '''\n",
    "    regressor = RandomForestRegressor(n_estimators = n, random_state = 0)\n",
    "    regressor.fit(X,y)\n",
    "    return regressor.predict(np.array(objective).reshape(-1,1))"
   ]
  },
  {
   "cell_type": "code",
   "execution_count": 6,
   "metadata": {},
   "outputs": [],
   "source": [
    "# Creating a list of tuples containing varyig values of n_estimators & corresponding predicted values.\n",
    "mylist = []\n",
    "for ii in range(10,500+1,10):\n",
    "    mylist.append((ii,r_forest(ii,6.5)[0]))"
   ]
  },
  {
   "cell_type": "code",
   "execution_count": 7,
   "metadata": {},
   "outputs": [
    {
     "data": {
      "text/plain": [
       "[(10, 167000.0),\n",
       " (20, 166000.0),\n",
       " (30, 164333.33333333334),\n",
       " (40, 161250.0),\n",
       " (50, 161200.0)]"
      ]
     },
     "execution_count": 7,
     "metadata": {},
     "output_type": "execute_result"
    }
   ],
   "source": [
    "mylist[:5]"
   ]
  },
  {
   "cell_type": "code",
   "execution_count": 8,
   "metadata": {},
   "outputs": [],
   "source": [
    "# Separation for plot.\n",
    "x_grid,y_grid = np.array(mylist).T"
   ]
  },
  {
   "cell_type": "code",
   "execution_count": 9,
   "metadata": {},
   "outputs": [
    {
     "data": {
      "text/plain": [
       "array([14], dtype=int64)"
      ]
     },
     "execution_count": 9,
     "metadata": {},
     "output_type": "execute_result"
    }
   ],
   "source": [
    "# Getting the index for which the predicted value is the closest to 160k.\n",
    "epsilon = np.abs(y_grid-(np.ones(len(y_grid))*160000))\n",
    "min_index = np.where(epsilon == min(epsilon))[0]\n",
    "min_index"
   ]
  },
  {
   "cell_type": "markdown",
   "metadata": {},
   "source": [
    "### Visualization using plot:\n",
    "- Here, we see for what value of 'n_estimators', the predicted value of the salary will be the closest to 160k."
   ]
  },
  {
   "cell_type": "code",
   "execution_count": 10,
   "metadata": {},
   "outputs": [
    {
     "data": {
      "image/png": "[encoded data removed]",
      "text/plain": [
       "<Figure size 720x576 with 1 Axes>"
      ]
     },
     "metadata": {
      "needs_background": "light"
     },
     "output_type": "display_data"
    }
   ],
   "source": [
    "plt.figure(figsize = (10,8))\n",
    "sns.set(style = 'whitegrid', font_scale = 1.2)\n",
    "\n",
    "plt.scatter(x_grid, y_grid, marker = 'X')\n",
    "plt.plot(x_grid, y_grid, color = 'red', linewidth = 0.8)\n",
    "plt.hlines(160000, 0,501, linestyles = 'dotted')\n",
    "plt.hlines(y_grid[min_index], 0, x_grid[min_index]+1, linestyle = 'dashed',\n",
    "           linewidth = 3, color = '#002ffa')\n",
    "plt.vlines(x_grid[min_index], 157500, y_grid[min_index]+1, linestyle = 'dashed',\n",
    "           linewidth = 3, color = '#002ffa')\n",
    "\n",
    "\n",
    "plt.xlim(0,510)\n",
    "plt.ylim(158000, max(y_grid)+100)\n",
    "plt.grid(0)\n",
    "plt.show()"
   ]
  },
  {
   "cell_type": "code",
   "execution_count": 11,
   "metadata": {},
   "outputs": [
    {
     "name": "stdout",
     "output_type": "stream",
     "text": [
      "The best predicted salary for level 6.5 is  160000.0 .\n",
      " For this, we use n_estimators =  150 .\n"
     ]
    }
   ],
   "source": [
    "print('The best predicted salary for level 6.5 is ', y_grid[min_index][0], '.\\n',\n",
    "     'For this, we use n_estimators = ',int( x_grid[min_index][0]), '.')"
   ]
  },
  {
   "cell_type": "markdown",
   "metadata": {},
   "source": [
    "### Testing for level = 9."
   ]
  },
  {
   "cell_type": "code",
   "execution_count": 13,
   "metadata": {},
   "outputs": [
    {
     "data": {
      "text/plain": [
       "480666.67"
      ]
     },
     "execution_count": 13,
     "metadata": {},
     "output_type": "execute_result"
    }
   ],
   "source": [
    "r_forest(150, 9)[0].round(2)"
   ]
  },
  {
   "cell_type": "code",
   "execution_count": 14,
   "metadata": {},
   "outputs": [
    {
     "data": {
      "text/plain": [
       "Position    C-level\n",
       "Level             9\n",
       "Salary       500000\n",
       "Name: 8, dtype: object"
      ]
     },
     "execution_count": 14,
     "metadata": {},
     "output_type": "execute_result"
    }
   ],
   "source": [
    "dataset.iloc[-2,:]"
   ]
  },
  {
   "cell_type": "markdown",
   "metadata": {},
   "source": [
    "#### Checking whether we can do any better prediction than this."
   ]
  },
  {
   "cell_type": "code",
   "execution_count": 15,
   "metadata": {},
   "outputs": [],
   "source": [
    "def minimum_index(objective,truevalue):\n",
    "    # Creating a list of tuples containing varyig values of n_estimators & corresponding predicted values.\n",
    "    mylist = []\n",
    "    for ii in range(10,500+1,10):\n",
    "        mylist.append((ii,r_forest(ii,objective)[0]))\n",
    "    \n",
    "    # Separation for plot.\n",
    "    x_grid,y_grid = np.array(mylist).T\n",
    "\n",
    "    # Getting the index for which the predicted value is the closest to 160k.\n",
    "    epsilon = np.abs(y_grid-(np.ones(len(y_grid))*truevalue))\n",
    "    min_index = np.where(epsilon == min(epsilon))[0]\n",
    "    return (min_index, x_grid[min_index], y_grid[min_index])"
   ]
  },
  {
   "cell_type": "code",
   "execution_count": 31,
   "metadata": {},
   "outputs": [
    {
     "data": {
      "text/plain": [
       "(array([3], dtype=int64), array([40.]), array([502500.]))"
      ]
     },
     "execution_count": 31,
     "metadata": {},
     "output_type": "execute_result"
    }
   ],
   "source": [
    "minimum_index(9,500000)"
   ]
  },
  {
   "cell_type": "markdown",
   "metadata": {},
   "source": [
    "##### This means, for determining the best predicted value for level 9, we set n_estimators = 40 and doing so, we get the optimal predicted salary as 502500."
   ]
  },
  {
   "cell_type": "markdown",
   "metadata": {},
   "source": [
    "### Determining the optimal number of estimators for all the levels."
   ]
  },
  {
   "cell_type": "code",
   "execution_count": 17,
   "metadata": {},
   "outputs": [
    {
     "data": {
      "text/plain": [
       "[array([10.]),\n",
       " array([150.]),\n",
       " array([240.]),\n",
       " array([70.]),\n",
       " array([60.]),\n",
       " array([480.]),\n",
       " array([20.]),\n",
       " array([ 10., 200.]),\n",
       " array([40.]),\n",
       " array([10.])]"
      ]
     },
     "execution_count": 17,
     "metadata": {},
     "output_type": "execute_result"
    }
   ],
   "source": [
    "true_values = dataset.iloc[:,2].values\n",
    "objectives = dataset.iloc[:,1].values\n",
    "\n",
    "optimal_estimators = []\n",
    "for ii in range(len(objectives)):\n",
    "    optimal_estimators.append(minimum_index(objectives[ii], true_values[ii])[1] )\n",
    "    \n",
    "optimal_estimators"
   ]
  },
  {
   "cell_type": "markdown",
   "metadata": {},
   "source": [
    "#### Adding optimal estimators into the original dataset."
   ]
  },
  {
   "cell_type": "code",
   "execution_count": 68,
   "metadata": {},
   "outputs": [
    {
     "data": {
      "text/plain": [
       "array([ 10., 150., 240.,  70.,  60., 480.,  20.,  10.,  40.,  10.])"
      ]
     },
     "execution_count": 68,
     "metadata": {},
     "output_type": "execute_result"
    }
   ],
   "source": [
    "dataset['opt_estimators'] = [optimal_estimators[ii][0] for ii in range(len(optimal_estimators))]\n",
    "dataset['opt_estimators'].values"
   ]
  },
  {
   "cell_type": "markdown",
   "metadata": {},
   "source": [
    "#### Adding the best estimates into the original dataset."
   ]
  },
  {
   "cell_type": "code",
   "execution_count": 35,
   "metadata": {},
   "outputs": [],
   "source": [
    "best_prediction = []\n",
    "objectives = dataset.iloc[:,1].values\n",
    "\n",
    "for ii in range(len(dataset['opt_estimators'].values)):\n",
    "    regressor1 = RandomForestRegressor(n_estimators = int(dataset['opt_estimators'].values[ii]),\n",
    "                                       random_state = 0)\n",
    "    regressor1.fit(X,y)\n",
    "    best_prediction.append(regressor1.predict(np.array(objectives[ii]).reshape(-1,1)))\n",
    "    \n",
    "dataset['best_prediction'] = [best_prediction[ii][0].round(2) for ii in range(len(best_prediction))]"
   ]
  },
  {
   "cell_type": "markdown",
   "metadata": {},
   "source": [
    "#### Optimal number of estimators for each level visualized in a bar plot."
   ]
  },
  {
   "cell_type": "code",
   "execution_count": 67,
   "metadata": {},
   "outputs": [
    {
     "data": {
      "image/png": "[encoded data removed]",
      "text/plain": [
       "<Figure size 720x504 with 1 Axes>"
      ]
     },
     "metadata": {},
     "output_type": "display_data"
    }
   ],
   "source": [
    "plt.figure(figsize = (10,7))\n",
    "labels = [str(ii) for ii in np.arange(1,11)]\n",
    "ax = sns.barplot(x = [optimal_estimators[ii][0] for ii in range(len(optimal_estimators))],\n",
    "            y = dataset['Position'], hue = dataset.Level, palette = 'Set1')\n",
    "\n",
    "#h,l = ax.get_legend_handles_labels()\n",
    "\n",
    "plt.xlabel('Optimal number of Estimators')\n",
    "plt.legend(loc = 'upper right')\n",
    "plt.show()"
   ]
  },
  {
   "cell_type": "code",
   "execution_count": 41,
   "metadata": {},
   "outputs": [
    {
     "data": {
      "text/html": [
       "<div>\n",
       "<style scoped>\n",
       "    .dataframe tbody tr th:only-of-type {\n",
       "        vertical-align: middle;\n",
       "    }\n",
       "\n",
       "    .dataframe tbody tr th {\n",
       "        vertical-align: top;\n",
       "    }\n",
       "\n",
       "    .dataframe thead th {\n",
       "        text-align: right;\n",
       "    }\n",
       "</style>\n",
       "<table border=\"1\" class=\"dataframe\">\n",
       "  <thead>\n",
       "    <tr style=\"text-align: right;\">\n",
       "      <th></th>\n",
       "      <th>Position</th>\n",
       "      <th>Level</th>\n",
       "      <th>Salary</th>\n",
       "      <th>opt_estimators</th>\n",
       "      <th>best_prediction</th>\n",
       "      <th>Difference</th>\n",
       "    </tr>\n",
       "  </thead>\n",
       "  <tbody>\n",
       "    <tr>\n",
       "      <th>0</th>\n",
       "      <td>Business Analyst</td>\n",
       "      <td>1</td>\n",
       "      <td>45000</td>\n",
       "      <td>10.0</td>\n",
       "      <td>46000.00</td>\n",
       "      <td>1000.00</td>\n",
       "    </tr>\n",
       "    <tr>\n",
       "      <th>1</th>\n",
       "      <td>Junior Consultant</td>\n",
       "      <td>2</td>\n",
       "      <td>50000</td>\n",
       "      <td>150.0</td>\n",
       "      <td>50066.67</td>\n",
       "      <td>66.67</td>\n",
       "    </tr>\n",
       "    <tr>\n",
       "      <th>2</th>\n",
       "      <td>Senior Consultant</td>\n",
       "      <td>3</td>\n",
       "      <td>60000</td>\n",
       "      <td>240.0</td>\n",
       "      <td>59875.00</td>\n",
       "      <td>-125.00</td>\n",
       "    </tr>\n",
       "    <tr>\n",
       "      <th>3</th>\n",
       "      <td>Manager</td>\n",
       "      <td>4</td>\n",
       "      <td>80000</td>\n",
       "      <td>70.0</td>\n",
       "      <td>80142.86</td>\n",
       "      <td>142.86</td>\n",
       "    </tr>\n",
       "    <tr>\n",
       "      <th>4</th>\n",
       "      <td>Country Manager</td>\n",
       "      <td>5</td>\n",
       "      <td>110000</td>\n",
       "      <td>60.0</td>\n",
       "      <td>109833.33</td>\n",
       "      <td>-166.67</td>\n",
       "    </tr>\n",
       "    <tr>\n",
       "      <th>5</th>\n",
       "      <td>Region Manager</td>\n",
       "      <td>6</td>\n",
       "      <td>150000</td>\n",
       "      <td>480.0</td>\n",
       "      <td>143895.83</td>\n",
       "      <td>-6104.17</td>\n",
       "    </tr>\n",
       "    <tr>\n",
       "      <th>6</th>\n",
       "      <td>Partner</td>\n",
       "      <td>7</td>\n",
       "      <td>200000</td>\n",
       "      <td>20.0</td>\n",
       "      <td>200000.00</td>\n",
       "      <td>0.00</td>\n",
       "    </tr>\n",
       "    <tr>\n",
       "      <th>7</th>\n",
       "      <td>Senior Partner</td>\n",
       "      <td>8</td>\n",
       "      <td>300000</td>\n",
       "      <td>10.0</td>\n",
       "      <td>305000.00</td>\n",
       "      <td>5000.00</td>\n",
       "    </tr>\n",
       "    <tr>\n",
       "      <th>8</th>\n",
       "      <td>C-level</td>\n",
       "      <td>9</td>\n",
       "      <td>500000</td>\n",
       "      <td>40.0</td>\n",
       "      <td>502500.00</td>\n",
       "      <td>2500.00</td>\n",
       "    </tr>\n",
       "    <tr>\n",
       "      <th>9</th>\n",
       "      <td>CEO</td>\n",
       "      <td>10</td>\n",
       "      <td>1000000</td>\n",
       "      <td>10.0</td>\n",
       "      <td>850000.00</td>\n",
       "      <td>-150000.00</td>\n",
       "    </tr>\n",
       "  </tbody>\n",
       "</table>\n",
       "</div>"
      ],
      "text/plain": [
       "            Position  Level   Salary  opt_estimators  best_prediction  \\\n",
       "0   Business Analyst      1    45000            10.0         46000.00   \n",
       "1  Junior Consultant      2    50000           150.0         50066.67   \n",
       "2  Senior Consultant      3    60000           240.0         59875.00   \n",
       "3            Manager      4    80000            70.0         80142.86   \n",
       "4    Country Manager      5   110000            60.0        109833.33   \n",
       "5     Region Manager      6   150000           480.0        143895.83   \n",
       "6            Partner      7   200000            20.0        200000.00   \n",
       "7     Senior Partner      8   300000            10.0        305000.00   \n",
       "8            C-level      9   500000            40.0        502500.00   \n",
       "9                CEO     10  1000000            10.0        850000.00   \n",
       "\n",
       "   Difference  \n",
       "0     1000.00  \n",
       "1       66.67  \n",
       "2     -125.00  \n",
       "3      142.86  \n",
       "4     -166.67  \n",
       "5    -6104.17  \n",
       "6        0.00  \n",
       "7     5000.00  \n",
       "8     2500.00  \n",
       "9  -150000.00  "
      ]
     },
     "execution_count": 41,
     "metadata": {},
     "output_type": "execute_result"
    }
   ],
   "source": [
    "dataset['Difference'] = -dataset['Salary'] + dataset['best_prediction']\n",
    "dataset"
   ]
  },
  {
   "cell_type": "markdown",
   "metadata": {},
   "source": [
    "# The End."
   ]
  }
 ],
 "metadata": {
  "kernelspec": {
   "display_name": "Python 3",
   "language": "python",
   "name": "python3"
  },
  "language_info": {
   "codemirror_mode": {
    "name": "ipython",
    "version": 3
   },
   "file_extension": ".py",
   "mimetype": "text/x-python",
   "name": "python",
   "nbconvert_exporter": "python",
   "pygments_lexer": "ipython3",
   "version": "3.7.3"
  }
 },
 "nbformat": 4,
 "nbformat_minor": 2
}
