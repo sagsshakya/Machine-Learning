{
  "nbformat": 4,
  "nbformat_minor": 0,
  "metadata": {
    "colab": {
      "name": "Q15. Multiple Linear Regresssion.ipynb",
      "provenance": [],
      "authorship_tag": "ABX9TyN918ZJG3y2PWJQo9Zjmo6x",
      "include_colab_link": true
    },
    "kernelspec": {
      "name": "python3",
      "display_name": "Python 3"
    }
  },
  "cells": [
    {
      "cell_type": "markdown",
      "metadata": {
        "id": "view-in-github",
        "colab_type": "text"
      },
      "source": [
        "<a href=\"https://colab.research.google.com/github/sagsshakya/Machine-Learning/blob/master/Nachine%20Learning%20LAB/Q15_Multiple_Linear_Regresssion.ipynb\" target=\"_parent\"><img src=\"https://colab.research.google.com/assets/colab-badge.svg\" alt=\"Open In Colab\"/></a>"
      ]
    },
    {
      "cell_type": "markdown",
      "metadata": {
        "id": "TmEnA2hLyMZX"
      },
      "source": [
        "# Q15. Multiple Linear Regresssion.\r\n",
        "### Probem Statement:\r\n",
        "    Consider a dataset with p features ( or independent variables) and one response (or dependent variable). Also the dataset contains n rows/observations.   \r\n",
        "        a.Find the regression line using multiple linear regression. \r\n",
        "        b.Find the residual error of ith observation."
      ]
    },
    {
      "cell_type": "markdown",
      "metadata": {
        "id": "WhN7KVoVLjpe"
      },
      "source": [
        "# Importing necessary libraries."
      ]
    },
    {
      "cell_type": "code",
      "metadata": {
        "id": "cbqhvRXZLpD8"
      },
      "source": [
        "import numpy as np\r\n",
        "import pandas as pd"
      ],
      "execution_count": 1,
      "outputs": []
    },
    {
      "cell_type": "code",
      "metadata": {
        "id": "UVeZy2IlyfUq"
      },
      "source": [
        "# Constructing the dataset manually.\r\n",
        "from sklearn.datasets import make_regression\r\n",
        "X, Y = make_regression(n_samples = 500,\r\n",
        "                       n_features = 5,\r\n",
        "                       n_informative = 5,\r\n",
        "                       n_targets = 1,\r\n",
        "                       noise = 0.1, \r\n",
        "                       random_state = 100)"
      ],
      "execution_count": 3,
      "outputs": []
    },
    {
      "cell_type": "code",
      "metadata": {
        "colab": {
          "base_uri": "https://localhost:8080/",
          "height": 206
        },
        "id": "RjD1dEIvzL21",
        "outputId": "1456c3f3-f19c-47cb-ed6b-4861f2cdb5bc"
      },
      "source": [
        ""
      ],
      "execution_count": 8,
      "outputs": [
        {
          "output_type": "execute_result",
          "data": {
            "text/html": [
              "<div>\n",
              "<style scoped>\n",
              "    .dataframe tbody tr th:only-of-type {\n",
              "        vertical-align: middle;\n",
              "    }\n",
              "\n",
              "    .dataframe tbody tr th {\n",
              "        vertical-align: top;\n",
              "    }\n",
              "\n",
              "    .dataframe thead th {\n",
              "        text-align: right;\n",
              "    }\n",
              "</style>\n",
              "<table border=\"1\" class=\"dataframe\">\n",
              "  <thead>\n",
              "    <tr style=\"text-align: right;\">\n",
              "      <th></th>\n",
              "      <th>A</th>\n",
              "      <th>B</th>\n",
              "      <th>C</th>\n",
              "      <th>D</th>\n",
              "      <th>E</th>\n",
              "      <th>target</th>\n",
              "    </tr>\n",
              "  </thead>\n",
              "  <tbody>\n",
              "    <tr>\n",
              "      <th>0</th>\n",
              "      <td>1.569733</td>\n",
              "      <td>-1.192708</td>\n",
              "      <td>0.905906</td>\n",
              "      <td>-0.966887</td>\n",
              "      <td>-0.110338</td>\n",
              "      <td>-36.527279</td>\n",
              "    </tr>\n",
              "    <tr>\n",
              "      <th>1</th>\n",
              "      <td>-0.147940</td>\n",
              "      <td>-1.117347</td>\n",
              "      <td>-0.919339</td>\n",
              "      <td>0.499645</td>\n",
              "      <td>-1.645060</td>\n",
              "      <td>-197.907221</td>\n",
              "    </tr>\n",
              "    <tr>\n",
              "      <th>2</th>\n",
              "      <td>0.679138</td>\n",
              "      <td>0.521998</td>\n",
              "      <td>0.563949</td>\n",
              "      <td>1.077804</td>\n",
              "      <td>-0.058190</td>\n",
              "      <td>100.414544</td>\n",
              "    </tr>\n",
              "    <tr>\n",
              "      <th>3</th>\n",
              "      <td>-1.664510</td>\n",
              "      <td>0.492562</td>\n",
              "      <td>-0.104052</td>\n",
              "      <td>-0.384656</td>\n",
              "      <td>0.075302</td>\n",
              "      <td>-41.315855</td>\n",
              "    </tr>\n",
              "    <tr>\n",
              "      <th>4</th>\n",
              "      <td>-1.204723</td>\n",
              "      <td>1.635914</td>\n",
              "      <td>2.929661</td>\n",
              "      <td>0.826368</td>\n",
              "      <td>1.024964</td>\n",
              "      <td>194.881716</td>\n",
              "    </tr>\n",
              "  </tbody>\n",
              "</table>\n",
              "</div>"
            ],
            "text/plain": [
              "          A         B         C         D         E      target\n",
              "0  1.569733 -1.192708  0.905906 -0.966887 -0.110338  -36.527279\n",
              "1 -0.147940 -1.117347 -0.919339  0.499645 -1.645060 -197.907221\n",
              "2  0.679138  0.521998  0.563949  1.077804 -0.058190  100.414544\n",
              "3 -1.664510  0.492562 -0.104052 -0.384656  0.075302  -41.315855\n",
              "4 -1.204723  1.635914  2.929661  0.826368  1.024964  194.881716"
            ]
          },
          "metadata": {
            "tags": []
          },
          "execution_count": 8
        }
      ]
    },
    {
      "cell_type": "markdown",
      "metadata": {
        "id": "Pjiz5ZKx0dDN"
      },
      "source": [
        "# Part 1: Model Training using Linear Regression."
      ]
    },
    {
      "cell_type": "code",
      "metadata": {
        "id": "5OP-g_J0zicj"
      },
      "source": [
        "from sklearn.linear_model import LinearRegression\r\n",
        "linreg = LinearRegression()\r\n",
        "linreg.fit(X, Y)\r\n",
        "Y_pred = linreg.predict(X)"
      ],
      "execution_count": 10,
      "outputs": []
    },
    {
      "cell_type": "code",
      "metadata": {
        "colab": {
          "base_uri": "https://localhost:8080/"
        },
        "id": "5fPRPTKj0kFM",
        "outputId": "cfd4153f-bd1b-4885-fbef-0f36ec031e48"
      },
      "source": [
        "print('Intercept = ',linreg.intercept_.round(3))\r\n",
        "print('Weights = ',linreg.coef_.round(3))"
      ],
      "execution_count": 14,
      "outputs": [
        {
          "output_type": "stream",
          "text": [
            "Intercept =  0.005\n",
            "Weights =  [47.983 86.044 14.339 16.773 54.532]\n"
          ],
          "name": "stdout"
        }
      ]
    },
    {
      "cell_type": "code",
      "metadata": {
        "colab": {
          "base_uri": "https://localhost:8080/"
        },
        "id": "5VHd3OPc1Fr7",
        "outputId": "8b6a7024-0796-4e5f-ca1e-7128da4065ea"
      },
      "source": [
        "# Performance measure.\r\n",
        "from sklearn.metrics import mean_squared_error, mean_absolute_error\r\n",
        "\r\n",
        "print('Mean Squared Error = ', round(mean_squared_error(Y, Y_pred), 3))\r\n",
        "print('Root Mean Squared Error = ', round(mean_squared_error(Y, Y_pred, squared = False), 3))\r\n",
        "print('Mean Absolute Error = ', round(mean_absolute_error(Y, Y_pred), 3))"
      ],
      "execution_count": 16,
      "outputs": [
        {
          "output_type": "stream",
          "text": [
            "Mean Squared Error =  0.009\n",
            "Root Mean Squared Error =  0.096\n",
            "Mean Absolute Error =  0.076\n"
          ],
          "name": "stdout"
        }
      ]
    },
    {
      "cell_type": "markdown",
      "metadata": {
        "id": "MCLfu7Wx8urM"
      },
      "source": [
        "# Part 2: Residual Error."
      ]
    },
    {
      "cell_type": "code",
      "metadata": {
        "colab": {
          "base_uri": "https://localhost:8080/",
          "height": 143
        },
        "id": "B0RxYQx38wxz",
        "outputId": "ff051605-ce29-49ab-dbdc-7c84d0e4fce9"
      },
      "source": [
        "df = pd.concat([pd.DataFrame(X), pd.DataFrame(Y)],\r\n",
        "               ignore_index=True, axis = 1)\r\n",
        "\r\n",
        "df.columns = list('ABCDE') + ['target']\r\n",
        "df['predictions'] = Y_pred\r\n",
        "df['residuals'] = Y - Y_pred\r\n",
        "df.head(3)"
      ],
      "execution_count": 19,
      "outputs": [
        {
          "output_type": "execute_result",
          "data": {
            "text/html": [
              "<div>\n",
              "<style scoped>\n",
              "    .dataframe tbody tr th:only-of-type {\n",
              "        vertical-align: middle;\n",
              "    }\n",
              "\n",
              "    .dataframe tbody tr th {\n",
              "        vertical-align: top;\n",
              "    }\n",
              "\n",
              "    .dataframe thead th {\n",
              "        text-align: right;\n",
              "    }\n",
              "</style>\n",
              "<table border=\"1\" class=\"dataframe\">\n",
              "  <thead>\n",
              "    <tr style=\"text-align: right;\">\n",
              "      <th></th>\n",
              "      <th>A</th>\n",
              "      <th>B</th>\n",
              "      <th>C</th>\n",
              "      <th>D</th>\n",
              "      <th>E</th>\n",
              "      <th>target</th>\n",
              "      <th>predictions</th>\n",
              "      <th>residuals</th>\n",
              "    </tr>\n",
              "  </thead>\n",
              "  <tbody>\n",
              "    <tr>\n",
              "      <th>0</th>\n",
              "      <td>1.569733</td>\n",
              "      <td>-1.192708</td>\n",
              "      <td>0.905906</td>\n",
              "      <td>-0.966887</td>\n",
              "      <td>-0.110338</td>\n",
              "      <td>-36.527279</td>\n",
              "      <td>-36.544744</td>\n",
              "      <td>0.017465</td>\n",
              "    </tr>\n",
              "    <tr>\n",
              "      <th>1</th>\n",
              "      <td>-0.147940</td>\n",
              "      <td>-1.117347</td>\n",
              "      <td>-0.919339</td>\n",
              "      <td>0.499645</td>\n",
              "      <td>-1.645060</td>\n",
              "      <td>-197.907221</td>\n",
              "      <td>-197.743839</td>\n",
              "      <td>-0.163382</td>\n",
              "    </tr>\n",
              "    <tr>\n",
              "      <th>2</th>\n",
              "      <td>0.679138</td>\n",
              "      <td>0.521998</td>\n",
              "      <td>0.563949</td>\n",
              "      <td>1.077804</td>\n",
              "      <td>-0.058190</td>\n",
              "      <td>100.414544</td>\n",
              "      <td>100.498737</td>\n",
              "      <td>-0.084193</td>\n",
              "    </tr>\n",
              "  </tbody>\n",
              "</table>\n",
              "</div>"
            ],
            "text/plain": [
              "          A         B         C  ...      target  predictions  residuals\n",
              "0  1.569733 -1.192708  0.905906  ...  -36.527279   -36.544744   0.017465\n",
              "1 -0.147940 -1.117347 -0.919339  ... -197.907221  -197.743839  -0.163382\n",
              "2  0.679138  0.521998  0.563949  ...  100.414544   100.498737  -0.084193\n",
              "\n",
              "[3 rows x 8 columns]"
            ]
          },
          "metadata": {
            "tags": []
          },
          "execution_count": 19
        }
      ]
    }
  ]
}